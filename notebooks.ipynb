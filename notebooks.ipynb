{
 "cells": [
  {
   "cell_type": "markdown",
   "metadata": {},
   "source": [
    "# Content with notebooks\n",
    "\n",
    "You can also create content with Jupyter Notebooks. This means that you can include\n",
    "code blocks and their outputs in your book.\n",
    "\n",
    "## Markdown + notebooks\n",
    "\n",
    "As it is markdown, you can embed images, HTML, etc into your posts!\n",
    "\n",
    "![](https://myst-parser.readthedocs.io/en/latest/_static/logo-wide.svg)\n",
    "\n",
    "You can also $add_{math}$ and\n",
    "\n",
    "$$\n",
    "math^{blocks}\n",
    "$$\n",
    "\n",
    "or\n",
    "\n",
    "$$\n",
    "\\begin{aligned}\n",
    "\\mbox{mean} la_{tex} \\\\ \\\\\n",
    "math blocks\n",
    "\\end{aligned}\n",
    "$$\n",
    "\n",
    "But make sure you \\$Escape \\$your \\$dollar signs \\$you want to keep!\n",
    "\n",
    "## MyST markdown\n",
    "\n",
    "MyST markdown works in Jupyter Notebooks as well. For more information about MyST markdown, check\n",
    "out [the MyST guide in Jupyter Book](https://jupyterbook.org/content/myst.html),\n",
    "or see [the MyST markdown documentation](https://myst-parser.readthedocs.io/en/latest/).\n",
    "\n",
    "## Code blocks and outputs\n",
    "\n",
    "Jupyter Book will also embed your code blocks and output in your book.\n",
    "For example, here's some sample Matplotlib code:"
   ]
  },
  {
   "cell_type": "code",
   "execution_count": 1,
   "metadata": {},
   "outputs": [
    {
     "name": "stdout",
     "output_type": "stream",
     "text": [
      "Requirement already satisfied: requests in /Users/erik/Coding/uc3m/Web Analytics/Project/map-env/lib/python3.11/site-packages (2.31.0)\n",
      "Requirement already satisfied: bs4 in /Users/erik/Coding/uc3m/Web Analytics/Project/map-env/lib/python3.11/site-packages (0.0.1)\n",
      "Requirement already satisfied: pandas in /Users/erik/Coding/uc3m/Web Analytics/Project/map-env/lib/python3.11/site-packages (2.1.3)\n",
      "Requirement already satisfied: charset-normalizer<4,>=2 in /Users/erik/Coding/uc3m/Web Analytics/Project/map-env/lib/python3.11/site-packages (from requests) (3.3.2)\n",
      "Requirement already satisfied: idna<4,>=2.5 in /Users/erik/Coding/uc3m/Web Analytics/Project/map-env/lib/python3.11/site-packages (from requests) (3.4)\n",
      "Requirement already satisfied: urllib3<3,>=1.21.1 in /Users/erik/Coding/uc3m/Web Analytics/Project/map-env/lib/python3.11/site-packages (from requests) (2.0.7)\n",
      "Requirement already satisfied: certifi>=2017.4.17 in /Users/erik/Coding/uc3m/Web Analytics/Project/map-env/lib/python3.11/site-packages (from requests) (2023.7.22)\n",
      "Requirement already satisfied: beautifulsoup4 in /Users/erik/Coding/uc3m/Web Analytics/Project/map-env/lib/python3.11/site-packages (from bs4) (4.12.2)\n",
      "Requirement already satisfied: numpy<2,>=1.23.2 in /Users/erik/Coding/uc3m/Web Analytics/Project/map-env/lib/python3.11/site-packages (from pandas) (1.26.1)\n",
      "Requirement already satisfied: python-dateutil>=2.8.2 in /Users/erik/Coding/uc3m/Web Analytics/Project/map-env/lib/python3.11/site-packages (from pandas) (2.8.2)\n",
      "Requirement already satisfied: pytz>=2020.1 in /Users/erik/Coding/uc3m/Web Analytics/Project/map-env/lib/python3.11/site-packages (from pandas) (2023.3.post1)\n",
      "Requirement already satisfied: tzdata>=2022.1 in /Users/erik/Coding/uc3m/Web Analytics/Project/map-env/lib/python3.11/site-packages (from pandas) (2023.3)\n",
      "Requirement already satisfied: six>=1.5 in /Users/erik/Coding/uc3m/Web Analytics/Project/map-env/lib/python3.11/site-packages (from python-dateutil>=2.8.2->pandas) (1.16.0)\n",
      "Requirement already satisfied: soupsieve>1.2 in /Users/erik/Coding/uc3m/Web Analytics/Project/map-env/lib/python3.11/site-packages (from beautifulsoup4->bs4) (2.5)\n",
      "Note: you may need to restart the kernel to use updated packages.\n"
     ]
    }
   ],
   "source": [
    "%pip install requests bs4 pandas\n",
    "\n",
    "from bs4 import BeautifulSoup\n",
    "import requests\n",
    "import pandas as pd"
   ]
  },
  {
   "cell_type": "code",
   "execution_count": 2,
   "metadata": {},
   "outputs": [
    {
     "name": "stdout",
     "output_type": "stream",
     "text": [
      "<div class=\"marcoParrafo\" id=\"quality\">\n",
      "<h2>Quality</h2>\n",
      "</div>\n"
     ]
    }
   ],
   "source": [
    "url = \"https://www.uc3m.es/bachelor-degree/data-science\"\n",
    "response = requests.get(url).text\n",
    "\n",
    "soup = BeautifulSoup(response, 'html.parser')\n",
    "\n",
    "soup_quality = soup.find(id=\"quality\")\n",
    "print(soup_quality)\n"
   ]
  },
  {
   "cell_type": "code",
   "execution_count": 52,
   "metadata": {},
   "outputs": [
    {
     "name": "stdout",
     "output_type": "stream",
     "text": [
      "    check_in  check_out   latitude  longitude  price     room_type\n",
      "0 2024-01-01 2024-01-02  40.434800  -3.683460     47  private_room\n",
      "1 2024-01-01 2024-01-02  40.406610  -3.674030     27  private_room\n",
      "2 2024-01-01 2024-01-02  40.426480  -3.704340     56  private_room\n",
      "3 2024-01-01 2024-01-02  40.407969  -3.701829     85   entire_home\n",
      "4 2024-01-01 2024-01-02  40.410685  -3.703990     33  private_room\n"
     ]
    }
   ],
   "source": [
    "import json\n",
    "\n",
    "\n",
    "def scrape_airbnb(check_in, check_out):\n",
    "    url = f\"https://www.airbnb.com/s/Madrid/homes?place_id=ChIJgTwKgJcpQg0RaSKMYcHeNsQ&refinement_paths%5B%5D=%2Fhomes&flexible_trip_dates%5B%5D=april&flexible_trip_dates%5B%5D=august&flexible_trip_dates%5B%5D=february&flexible_trip_dates%5B%5D=july&flexible_trip_dates%5B%5D=june&flexible_trip_dates%5B%5D=march&flexible_trip_dates%5B%5D=may&flexible_trip_dates%5B%5D=october&flexible_trip_dates%5B%5D=september&date_picker_type=calendar&search_type=filter_change&tab_id=home_tab&query=Madrid&monthly_start_date=2023-12-01&monthly_length=3&price_filter_input_type=0&price_filter_num_nights=1&channel=EXPLORE&flexible_trip_lengths%5B%5D=weekend_trip&source=structured_search_input_header&checkin={check_in}&checkout={check_out}&adults=1\"\n",
    "    response = requests.get(url).text\n",
    "\n",
    "    soup = BeautifulSoup(response, \"html.parser\")\n",
    "\n",
    "    script_tag = soup.find(\"script\", {\"id\": \"data-state\", \"type\": \"application/json\"})\n",
    "    if script_tag:\n",
    "        json_data = json.loads(script_tag.string)\n",
    "        return json_data\n",
    "    else:\n",
    "        return \"Data not found\"\n",
    "\n",
    "\n",
    "def extract_data(json_data, check_in, check_out):\n",
    "    result = []\n",
    "    length = len(\n",
    "        json_data[\"niobeMinimalClientData\"][1][1][\"data\"][\"presentation\"][\n",
    "            \"staysSearch\"\n",
    "        ][\"results\"][\"searchResults\"]\n",
    "    )\n",
    "\n",
    "    for i in range(length - 1):\n",
    "        # LOCATION\n",
    "        location = json_data[\"niobeMinimalClientData\"][1][1][\"data\"][\"presentation\"][\n",
    "            \"staysSearch\"\n",
    "        ][\"results\"][\"searchResults\"][i][\"listing\"][\"coordinate\"]\n",
    "        latitude = location[\"latitude\"]\n",
    "        longitude = location[\"longitude\"]\n",
    "\n",
    "        # PRICE\n",
    "        price = json_data[\"niobeMinimalClientData\"][1][1][\"data\"][\"presentation\"][\n",
    "            \"staysSearch\"\n",
    "        ][\"results\"][\"searchResults\"][i][\"pricingQuote\"][\"rate\"][\"amount\"]\n",
    "\n",
    "        room_type = json_data[\"niobeMinimalClientData\"][1][1][\"data\"][\"presentation\"][\n",
    "            \"staysSearch\"\n",
    "        ][\"results\"][\"searchResults\"][i][\"listing\"][\"roomTypeCategory\"]\n",
    "\n",
    "        result.append(\n",
    "            {\n",
    "                \"check_in\": check_in,\n",
    "                \"check_out\": check_out,\n",
    "                \"latitude\": latitude,\n",
    "                \"longitude\": longitude,\n",
    "                \"price\": price,\n",
    "                \"room_type\": room_type,\n",
    "            }\n",
    "        )\n",
    "\n",
    "    return result\n",
    "\n",
    "\n",
    "airbnb_raw_data = []\n",
    "year = 2024\n",
    "for month in range(1, 12):\n",
    "    for day in range(1, 28):  # make it easy for february\n",
    "        check_in = f\"{year}-{month}-{day}\"\n",
    "        check_out = f\"{year}-{month}-{day + 1}\"\n",
    "        json_data = scrape_airbnb(check_in, check_out)\n",
    "        airbnb_raw_data.extend(extract_data(json_data, check_in, check_out))\n",
    "\n",
    "# Flatten the list of lists into a single list of dictionaries\n",
    "flat_data = [item for sublist in airbnb_raw_data for item in sublist]\n",
    "\n",
    "airbnb_data = pd.DataFrame(\n",
    "    airbnb_raw_data,\n",
    "    columns=[\"check_in\", \"check_out\", \"latitude\", \"longitude\", \"price\", \"room_type\"],\n",
    ")\n",
    "airbnb_data[\"check_in\"] = pd.to_datetime(airbnb_data[\"check_in\"])\n",
    "airbnb_data[\"check_out\"] = pd.to_datetime(airbnb_data[\"check_out\"])\n",
    "\n",
    "print(airbnb_data.head())\n",
    "airbnb_data.to_csv(\"airbnb_data.csv\", index=False)"
   ]
  },
  {
   "cell_type": "code",
   "execution_count": 12,
   "metadata": {},
   "outputs": [
    {
     "ename": "NameError",
     "evalue": "name 'np' is not defined",
     "output_type": "error",
     "traceback": [
      "\u001b[0;31m---------------------------------------------------------------------------\u001b[0m",
      "\u001b[0;31mNameError\u001b[0m                                 Traceback (most recent call last)",
      "\u001b[1;32m/Users/erik/Coding/uc3m/Web Analytics/Project/map-data/notebooks.ipynb Cell 13\u001b[0m line \u001b[0;36m2\n\u001b[1;32m      <a href='vscode-notebook-cell:/Users/erik/Coding/uc3m/Web%20Analytics/Project/map-data/notebooks.ipynb#W3sZmlsZQ%3D%3D?line=0'>1</a>\u001b[0m \u001b[39m# Fixing random state for reproducibility\u001b[39;00m\n\u001b[0;32m----> <a href='vscode-notebook-cell:/Users/erik/Coding/uc3m/Web%20Analytics/Project/map-data/notebooks.ipynb#W3sZmlsZQ%3D%3D?line=1'>2</a>\u001b[0m np\u001b[39m.\u001b[39mrandom\u001b[39m.\u001b[39mseed(\u001b[39m19680801\u001b[39m)\n\u001b[1;32m      <a href='vscode-notebook-cell:/Users/erik/Coding/uc3m/Web%20Analytics/Project/map-data/notebooks.ipynb#W3sZmlsZQ%3D%3D?line=3'>4</a>\u001b[0m N \u001b[39m=\u001b[39m \u001b[39m10\u001b[39m\n\u001b[1;32m      <a href='vscode-notebook-cell:/Users/erik/Coding/uc3m/Web%20Analytics/Project/map-data/notebooks.ipynb#W3sZmlsZQ%3D%3D?line=4'>5</a>\u001b[0m data \u001b[39m=\u001b[39m [np\u001b[39m.\u001b[39mlogspace(\u001b[39m0\u001b[39m, \u001b[39m1\u001b[39m, \u001b[39m100\u001b[39m) \u001b[39m+\u001b[39m np\u001b[39m.\u001b[39mrandom\u001b[39m.\u001b[39mrandn(\u001b[39m100\u001b[39m) \u001b[39m+\u001b[39m ii \u001b[39mfor\u001b[39;00m ii \u001b[39min\u001b[39;00m \u001b[39mrange\u001b[39m(N)]\n",
      "\u001b[0;31mNameError\u001b[0m: name 'np' is not defined"
     ]
    }
   ],
   "source": [
    "# Fixing random state for reproducibility\n",
    "np.random.seed(19680801)\n",
    "\n",
    "N = 10\n",
    "data = [np.logspace(0, 1, 100) + np.random.randn(100) + ii for ii in range(N)]\n",
    "data = np.array(data).T\n",
    "cmap = plt.cm.coolwarm\n",
    "rcParams['axes.prop_cycle'] = cycler(color=cmap(np.linspace(0, 1, N)))\n",
    "\n",
    "\n",
    "from matplotlib.lines import Line2D\n",
    "custom_lines = [Line2D([0], [0], color=cmap(0.), lw=4),\n",
    "                Line2D([0], [0], color=cmap(.5), lw=4),\n",
    "                Line2D([0], [0], color=cmap(1.), lw=4)]\n",
    "\n",
    "fig, ax = plt.subplots(figsize=(10, 5))\n",
    "lines = ax.plot(data)\n",
    "ax.legend(custom_lines, ['Cold', 'Medium', 'Hot']);"
   ]
  },
  {
   "cell_type": "markdown",
   "metadata": {},
   "source": [
    "There is a lot more that you can do with outputs (such as including interactive outputs)\n",
    "with your book. For more information about this, see [the Jupyter Book documentation](https://jupyterbook.org)"
   ]
  }
 ],
 "metadata": {
  "kernelspec": {
   "display_name": "Python 3",
   "language": "python",
   "name": "python3"
  },
  "language_info": {
   "codemirror_mode": {
    "name": "ipython",
    "version": 3
   },
   "file_extension": ".py",
   "mimetype": "text/x-python",
   "name": "python",
   "nbconvert_exporter": "python",
   "pygments_lexer": "ipython3",
   "version": "3.11.6"
  },
  "widgets": {
   "application/vnd.jupyter.widget-state+json": {
    "state": {},
    "version_major": 2,
    "version_minor": 0
   }
  }
 },
 "nbformat": 4,
 "nbformat_minor": 4
}
