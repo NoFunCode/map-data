{
 "cells": [
  {
   "cell_type": "markdown",
   "metadata": {
    "id": "CNDrGQIoKAmT"
   },
   "source": [
    "# BeautifulSoup"
   ]
  },
  {
   "cell_type": "code",
   "execution_count": 3,
   "metadata": {
    "id": "0h4vFO7f0q8Q"
   },
   "outputs": [
    {
     "name": "stdout",
     "output_type": "stream",
     "text": [
      "Requirement already satisfied: pandas in /Users/erik/Coding/uc3m/Web Analytics/Project/map-env/lib/python3.11/site-packages (2.1.3)\n",
      "Requirement already satisfied: numpy<2,>=1.23.2 in /Users/erik/Coding/uc3m/Web Analytics/Project/map-env/lib/python3.11/site-packages (from pandas) (1.26.1)\n",
      "Requirement already satisfied: python-dateutil>=2.8.2 in /Users/erik/Coding/uc3m/Web Analytics/Project/map-env/lib/python3.11/site-packages (from pandas) (2.8.2)\n",
      "Requirement already satisfied: pytz>=2020.1 in /Users/erik/Coding/uc3m/Web Analytics/Project/map-env/lib/python3.11/site-packages (from pandas) (2023.3.post1)\n",
      "Requirement already satisfied: tzdata>=2022.1 in /Users/erik/Coding/uc3m/Web Analytics/Project/map-env/lib/python3.11/site-packages (from pandas) (2023.3)\n",
      "Requirement already satisfied: six>=1.5 in /Users/erik/Coding/uc3m/Web Analytics/Project/map-env/lib/python3.11/site-packages (from python-dateutil>=2.8.2->pandas) (1.16.0)\n",
      "Note: you may need to restart the kernel to use updated packages.\n"
     ]
    }
   ],
   "source": [
    "%pip install pandas\n",
    "from bs4 import BeautifulSoup\n",
    "import requests\n",
    "import datetime\n",
    "\n",
    "import pandas as pd"
   ]
  },
  {
   "cell_type": "code",
   "execution_count": 4,
   "metadata": {
    "id": "kIJiK-wcY8zC"
   },
   "outputs": [],
   "source": [
    "def outAfterOneDay(checkIn):\n",
    "    # Define months with 31 days\n",
    "    months31 = [1, 3, 5, 7, 8, 10]\n",
    "    \n",
    "    # Define months with 30 days\n",
    "    months30 = [4, 6, 9, 11]\n",
    "\n",
    "    # Check conditions for different months and days to determine the checkOut date\n",
    "    if (checkIn.month in months30 and checkIn.day == 30) or \\\n",
    "       (checkIn.month == 2 and checkIn.day == 28 and checkIn.year == 2025) or \\\n",
    "       (checkIn.month == 2 and checkIn.day == 29 and checkIn.year == 2024) or \\\n",
    "       (checkIn.month in months31 and checkIn.day == 31):\n",
    "        checkOut = datetime.datetime(checkIn.year, checkIn.month + 1, 1)\n",
    "    elif checkIn.month == 12 and checkIn.day == 31:\n",
    "        checkOut = datetime.datetime(checkIn.year + 1, 1, 1)\n",
    "    else:\n",
    "        checkOut = datetime.datetime(checkIn.year, checkIn.month, checkIn.day + 1)\n",
    "    \n",
    "    return checkOut"
   ]
  },
  {
   "cell_type": "code",
   "execution_count": 5,
   "metadata": {
    "id": "LFsMDSuKoOJN"
   },
   "outputs": [],
   "source": [
    "# Main scraper function\n",
    "def scraper(checkIn):\n",
    "    # Initialize an empty list to store hotel data\n",
    "    hotelData = []\n",
    "\n",
    "    # Calculate the check-out date using the outAfterOneDay function\n",
    "    checkOut = outAfterOneDay(checkIn)\n",
    "\n",
    "    # Build the URL for the initial search on Booking.com\n",
    "    url = f'https://www.booking.com/searchresults.html?ss=Madrid%2C+Spain&aid=304142&lang=en-us&sb=1&src_elem=sb&src=index&dest_id=-390625&dest_type=city&checkin={checkIn.strftime(\"%Y-%m-%d\")}&checkout={checkOut.strftime(\"%Y-%m-%d\")}&group_adults=1&no_rooms=1&group_children=0&sb_travel_purpose=leisure&selected_currency=EUR'\n",
    "\n",
    "    # Set headers for the HTTP request\n",
    "    headers = {\n",
    "        'User-Agent': 'Mozilla/5.0 (X11; CrOS x86_64 8172.45.0) AppleWebKit/537.36 (KHTML, like Gecko) Chrome/51.0.2704.64 Safari/537.36',\n",
    "        'Accept-Language': 'en-US, en;q=0.5'\n",
    "    }\n",
    "\n",
    "    # Send an HTTP request to the URL\n",
    "    response = requests.get(url, headers=headers)\n",
    "\n",
    "    # Parse the HTML content using BeautifulSoup\n",
    "    soup = BeautifulSoup(response.text, 'html.parser')\n",
    "\n",
    "    # While the number of hotels collected is less than 100, continue scraping\n",
    "    while len(hotelData) < 100:\n",
    "        # Find all hotel elements on the current page\n",
    "        hotels = soup.find_all('div', {'data-testid': 'property-card'})\n",
    "\n",
    "        # Iterate through each hotel element and extract relevant information\n",
    "        for hotel in hotels:\n",
    "            name = hotel.find('div', {'data-testid': 'title'}).text.strip()\n",
    "            price = hotel.find('span', {'data-testid': 'price-and-discounted-price'}).text.strip()\n",
    "            link = hotel.find('a', {'data-testid': 'title-link'}).attrs['href']\n",
    "            \n",
    "            # Send an HTTP request to the hotel's specific page\n",
    "            hotel_url = requests.get(link)\n",
    "            hotel_soup = BeautifulSoup(hotel_url.text, 'html.parser')\n",
    "            \n",
    "            # Extract hotel address and latitude-longitude information\n",
    "            hotel_address = hotel_soup.find(id=\"hotel_address\")\n",
    "            if hotel_address is not None:\n",
    "                hotel_latlng = hotel_address.attrs['data-atlas-latlng']\n",
    "                hotel_lat, hotel_lng = hotel_latlng.split(',')\n",
    "            \n",
    "            # Extract room type information\n",
    "            room_type = hotel.find('div', {'data-testid': 'recommended-units'}).find('h4').text\n",
    "\n",
    "            # Append the collected data to the hotelData list\n",
    "            hotelData.append({\n",
    "                'check-in date': checkIn.strftime(\"%Y-%m-%d\"),\n",
    "                'check-out date': checkOut.strftime(\"%Y-%m-%d\"),\n",
    "                'year': checkIn.year,\n",
    "                'month': checkIn.month,\n",
    "                'name': name,\n",
    "                'price': price,\n",
    "                'lat': hotel_lat,\n",
    "                'lng': hotel_lng,\n",
    "                'room type': room_type,\n",
    "                'url': link\n",
    "            })\n",
    "\n",
    "        print(checkIn.strftime(\"%Y-%m-%d\"), checkOut.strftime(\"%Y-%m-%d\"))\n",
    "\n",
    "        # Go to the next page by updating the URL with an offset\n",
    "        new_url = url + f'&offset={len(hotelData)}'\n",
    "        print(new_url.split('EUR')[1])\n",
    "        response = requests.get(new_url, headers=headers)\n",
    "        soup = BeautifulSoup(response.text, 'html.parser')\n",
    "\n",
    "    # Return the collected hotel data and the check-out date\n",
    "    return hotelData, checkOut"
   ]
  },
  {
   "cell_type": "code",
   "execution_count": 20,
   "metadata": {
    "colab": {
     "base_uri": "https://localhost:8080/"
    },
    "id": "HASrsrlNpLmi",
    "outputId": "0e1c6b3b-cec1-4915-e4ad-dcbf03601d3c"
   },
   "outputs": [
    {
     "name": "stdout",
     "output_type": "stream",
     "text": [
      "2024-01-01 2024-01-02\n",
      "&offset=26\n",
      "2024-01-01 2024-01-02\n",
      "&offset=51\n",
      "2024-01-01 2024-01-02\n",
      "&offset=76\n",
      "2024-01-01 2024-01-02\n",
      "&offset=101\n",
      "101\n",
      "{'check-in date': '2024-01-01', 'check-out date': '2024-01-02', 'year': 2024, 'month': 1, 'name': 'Hotel Madrid Gran Via 25, Affiliated by Meliá', 'price': '€\\xa0159', 'lat': '40.41985106', 'lng': '-3.70224573', 'room type': 'Single Room', 'url': 'https://www.booking.com/hotel/es/hotel-madrid-gran-via-25.html?aid=304142&label=gen173nr-1FCAQoggI4-gNIMVgEaEaIAQGYATG4ARnIAQzYAQHoAQH4AQaIAgGoAgO4AurNvasGwAIB0gIkZDc3OTI1OTktMjQwMC00NGUyLTg2NjktYWJiZWVjZTNkMDNm2AIF4AIB&ucfs=1&arphpl=1&checkin=2024-01-01&checkout=2024-01-02&dest_id=-390625&dest_type=city&group_adults=1&req_adults=1&no_rooms=1&group_children=0&req_children=0&hpos=25&hapos=100&sr_order=popularity&srpvid=c9c27f756a8e0224&srepoch=1701799660&all_sr_blocks=9161901_91989069_1_1_0&highlighted_blocks=9161901_91989069_1_1_0&matching_block_id=9161901_91989069_1_1_0&sr_pri_blocks=9161901_91989069_1_1_0__15895&from=searchresults#hotelTmpl'}\n",
      "2024-01-02 2024-01-03\n",
      "&offset=26\n",
      "2024-01-02 2024-01-03\n",
      "&offset=51\n",
      "2024-01-02 2024-01-03\n",
      "&offset=76\n",
      "2024-01-02 2024-01-03\n",
      "&offset=101\n",
      "202\n",
      "{'check-in date': '2024-01-02', 'check-out date': '2024-01-03', 'year': 2024, 'month': 1, 'name': 'Hilton Madrid Airport', 'price': '€\\xa0138', 'lat': '40.45253966', 'lng': '-3.58583450', 'room type': 'King Hilton Guestroom', 'url': 'https://www.booking.com/hotel/es/madrid-airport.html?aid=304142&label=gen173nr-1FCAQoggI4-gNIMVgEaEaIAQGYATG4ARnIAQzYAQHoAQH4AQaIAgGoAgO4As7PvasGwAIB0gIkOTg0NzQxZmQtMGM1Yy00NmQ2LWI0NGQtNjY4ZWUyYjNjNmY52AIF4AIB&ucfs=1&arphpl=1&checkin=2024-01-02&checkout=2024-01-03&dest_id=-390625&dest_type=city&group_adults=1&req_adults=1&no_rooms=1&group_children=0&req_children=0&hpos=25&hapos=100&sr_order=popularity&srpvid=d2d37fe7125c004f&srepoch=1701799888&all_sr_blocks=1279306_95136432_2_34_0&highlighted_blocks=1279306_95136432_2_34_0&matching_block_id=1279306_95136432_2_34_0&sr_pri_blocks=1279306_95136432_2_34_0__13770&from_sustainable_property_sr=1&from=searchresults#hotelTmpl'}\n",
      "2024-01-03 2024-01-04\n",
      "&offset=26\n",
      "2024-01-03 2024-01-04\n",
      "&offset=51\n",
      "2024-01-03 2024-01-04\n",
      "&offset=76\n",
      "2024-01-03 2024-01-04\n",
      "&offset=101\n",
      "303\n",
      "{'check-in date': '2024-01-03', 'check-out date': '2024-01-04', 'year': 2024, 'month': 1, 'name': 'Hostal Viky', 'price': '€\\xa064', 'lat': '40.47370262', 'lng': '-3.57568502', 'room type': 'Single Room', 'url': 'https://www.booking.com/hotel/es/hostal-viky.html?aid=304142&label=gen173nr-1FCAQoggI4-gNIMVgEaEaIAQGYATG4ARnIAQzYAQHoAQH4AQaIAgGoAgO4ArTRvasGwAIB0gIkZTU2NzQ3ZDctNjU2OC00MGYwLTgwNTAtYTZjN2ZkOTczNjQz2AIF4AIB&ucfs=1&arphpl=1&checkin=2024-01-03&checkout=2024-01-04&dest_id=-390625&dest_type=city&group_adults=1&req_adults=1&no_rooms=1&group_children=0&req_children=0&hpos=25&hapos=100&sr_order=popularity&srpvid=c6af805a6a9701b4&srepoch=1701800118&all_sr_blocks=4472001_89858196_0_0_0&highlighted_blocks=4472001_89858196_0_0_0&matching_block_id=4472001_89858196_0_0_0&sr_pri_blocks=4472001_89858196_0_0_0__6400&from=searchresults#hotelTmpl'}\n",
      "2024-01-04 2024-01-05\n",
      "&offset=26\n",
      "2024-01-04 2024-01-05\n",
      "&offset=51\n",
      "2024-01-04 2024-01-05\n",
      "&offset=76\n",
      "2024-01-04 2024-01-05\n",
      "&offset=101\n",
      "404\n",
      "{'check-in date': '2024-01-04', 'check-out date': '2024-01-05', 'year': 2024, 'month': 1, 'name': 'Arenal Suites Puerta del Sol', 'price': '€\\xa0374', 'lat': '40.41701546', 'lng': '-3.70549277', 'room type': 'Family Suite', 'url': 'https://www.booking.com/hotel/es/arenalsuites.html?aid=304142&label=gen173nr-1FCAQoggI4-gNIMVgEaEaIAQGYATG4ARnIAQzYAQHoAQH4AQaIAgGoAgO4ApbTvasGwAIB0gIkZGEyZTNhYzctYjk2Ni00MDI0LThhZDYtNjE1YTczMDQxODg22AIF4AIB&ucfs=1&arphpl=1&checkin=2024-01-04&checkout=2024-01-05&dest_id=-390625&dest_type=city&group_adults=1&req_adults=1&no_rooms=1&group_children=0&req_children=0&hpos=25&hapos=100&sr_order=popularity&srpvid=225c80cbccbc0196&srepoch=1701800344&all_sr_blocks=130694912_216771769_4_0_0&highlighted_blocks=130694912_216771769_4_0_0&matching_block_id=130694912_216771769_4_0_0&sr_pri_blocks=130694912_216771769_4_0_0__37400&from=searchresults#hotelTmpl'}\n",
      "2024-01-05 2024-01-06\n",
      "&offset=26\n",
      "2024-01-05 2024-01-06\n",
      "&offset=51\n",
      "2024-01-05 2024-01-06\n",
      "&offset=76\n",
      "2024-01-05 2024-01-06\n",
      "&offset=101\n",
      "505\n",
      "{'check-in date': '2024-01-05', 'check-out date': '2024-01-06', 'year': 2024, 'month': 1, 'name': 'Zenit Abeba', 'price': '€\\xa099', 'lat': '40.43182532', 'lng': '-3.67359504', 'room type': 'Double or Twin Room', 'url': 'https://www.booking.com/hotel/es/abeba.html?aid=304142&label=gen173nr-1FCAQoggI4-gNIMVgEaEaIAQGYATG4ARnIAQzYAQHoAQH4AQaIAgGoAgO4Av7VvasGwAIB0gIkZjBkMjY3MWMtZjYzNy00ZjQ2LWI5ZWEtZGVjZGZjY2JkZTU32AIF4AIB&ucfs=1&arphpl=1&checkin=2024-01-05&checkout=2024-01-06&dest_id=-390625&dest_type=city&group_adults=1&req_adults=1&no_rooms=1&group_children=0&req_children=0&hpos=25&hapos=100&sr_order=popularity&srpvid=d522817f03090048&srepoch=1701800704&all_sr_blocks=9006102_252942415_0_2_0&highlighted_blocks=9006102_252942415_0_2_0&matching_block_id=9006102_252942415_0_2_0&sr_pri_blocks=9006102_252942415_0_2_0__9900&from_sustainable_property_sr=1&from=searchresults#hotelTmpl'}\n",
      "2024-01-06 2024-01-07\n",
      "&offset=26\n",
      "2024-01-06 2024-01-07\n",
      "&offset=51\n",
      "2024-01-06 2024-01-07\n",
      "&offset=76\n",
      "2024-01-06 2024-01-07\n",
      "&offset=101\n",
      "606\n",
      "{'check-in date': '2024-01-06', 'check-out date': '2024-01-07', 'year': 2024, 'month': 1, 'name': 'Golden Alcala', 'price': '€\\xa056', 'lat': '40.43248600', 'lng': '-3.65170200', 'room type': 'Single Room', 'url': 'https://www.booking.com/hotel/es/golden-alcala.html?aid=304142&label=gen173nr-1FCAQoggI4-gNIMVgEaEaIAQGYATG4ARnIAQzYAQHoAQH4AQaIAgGoAgO4AunXvasGwAIB0gIkODY0N2U4YjItZTI4Ni00Y2M0LWI1MDgtMGY3ODlkY2E1ZTZh2AIF4AIB&ucfs=1&arphpl=1&checkin=2024-01-06&checkout=2024-01-07&dest_id=-390625&dest_type=city&group_adults=1&req_adults=1&no_rooms=1&group_children=0&req_children=0&hpos=25&hapos=100&sr_order=popularity&srpvid=506081f4ceaf0244&srepoch=1701800940&all_sr_blocks=363357201_285070316_1_0_0&highlighted_blocks=363357201_285070316_1_0_0&matching_block_id=363357201_285070316_1_0_0&sr_pri_blocks=363357201_285070316_1_0_0__5605&from=searchresults#hotelTmpl'}\n",
      "2024-01-07 2024-01-08\n",
      "&offset=26\n",
      "2024-01-07 2024-01-08\n",
      "&offset=51\n",
      "2024-01-07 2024-01-08\n",
      "&offset=76\n",
      "2024-01-07 2024-01-08\n",
      "&offset=101\n",
      "707\n",
      "{'check-in date': '2024-01-07', 'check-out date': '2024-01-08', 'year': 2024, 'month': 1, 'name': 'Hostal Main Street Madrid', 'price': '€\\xa0104', 'lat': '40.42083530', 'lng': '-3.70659828', 'room type': 'Interior Small Double Room', 'url': 'https://www.booking.com/hotel/es/hostal-main-street-madrid.html?aid=304142&label=gen173nr-1FCAQoggI4-gNIMVgEaEaIAQGYATG4ARnIAQzYAQHoAQH4AQaIAgGoAgO4As7ZvasGwAIB0gIkODQ2NmFmM2EtYzI5OS00ZjU1LWJhZTctZTQ3YjM2NzgwMDAw2AIF4AIB&ucfs=1&arphpl=1&checkin=2024-01-07&checkout=2024-01-08&dest_id=-390625&dest_type=city&group_adults=1&req_adults=1&no_rooms=1&group_children=0&req_children=0&hpos=25&hapos=100&sr_order=popularity&srpvid=551f826755600289&srepoch=1701801169&all_sr_blocks=43074105_88500264_0_0_0&highlighted_blocks=43074105_88500264_0_0_0&matching_block_id=43074105_88500264_0_0_0&sr_pri_blocks=43074105_88500264_0_0_0__10439&from_sustainable_property_sr=1&from=searchresults#hotelTmpl'}\n",
      "2024-01-08 2024-01-09\n",
      "&offset=26\n",
      "2024-01-08 2024-01-09\n",
      "&offset=51\n",
      "2024-01-08 2024-01-09\n",
      "&offset=76\n",
      "2024-01-08 2024-01-09\n",
      "&offset=101\n",
      "808\n",
      "{'check-in date': '2024-01-08', 'check-out date': '2024-01-09', 'year': 2024, 'month': 1, 'name': 'Zenit Conde de Orgaz', 'price': '€\\xa094', 'lat': '40.45701749', 'lng': '-3.64773721', 'room type': 'Twin Room', 'url': 'https://www.booking.com/hotel/es/zenitconde.html?aid=304142&label=gen173nr-1FCAQoggI4-gNIMVgEaEaIAQGYATG4ARnIAQzYAQHoAQH4AQaIAgGoAgO4ArfbvasGwAIB0gIkYzRjZmE1YTktNzFhMS00NzA5LTg3ZTYtZGYzZmJjNjQwMGFi2AIF4AIB&ucfs=1&arphpl=1&checkin=2024-01-08&checkout=2024-01-09&dest_id=-390625&dest_type=city&group_adults=1&req_adults=1&no_rooms=1&group_children=0&req_children=0&hpos=25&hapos=100&sr_order=popularity&srpvid=349282db754c012c&srepoch=1701801401&all_sr_blocks=9013802_343252603_0_2_0&highlighted_blocks=9013802_343252603_0_2_0&matching_block_id=9013802_343252603_0_2_0&sr_pri_blocks=9013802_343252603_0_2_0__9400&from_sustainable_property_sr=1&from=searchresults#hotelTmpl'}\n",
      "2024-01-09 2024-01-10\n",
      "&offset=26\n",
      "2024-01-09 2024-01-10\n",
      "&offset=51\n",
      "2024-01-09 2024-01-10\n",
      "&offset=76\n",
      "2024-01-09 2024-01-10\n",
      "&offset=101\n",
      "909\n",
      "{'check-in date': '2024-01-09', 'check-out date': '2024-01-10', 'year': 2024, 'month': 1, 'name': 'Jardines Boutique', 'price': '€\\xa0117', 'lat': '40.41905270', 'lng': '-3.70093800', 'room type': 'Budget Single Room', 'url': 'https://www.booking.com/hotel/es/jardines-madrid.html?aid=304142&label=gen173nr-1FCAQoggI4-gNIMVgEaEaIAQGYATG4ARnIAQzYAQHoAQH4AQaIAgGoAgO4ApTdvasGwAIB0gIkYTg1MzU4ZGUtNmMzMi00MTE5LThlYjItNmM2YzgyNmVlNGEx2AIF4AIB&ucfs=1&arphpl=1&checkin=2024-01-09&checkout=2024-01-10&dest_id=-390625&dest_type=city&group_adults=1&req_adults=1&no_rooms=1&group_children=0&req_children=0&hpos=25&hapos=100&sr_order=popularity&srpvid=3832834a775c0156&srepoch=1701801623&all_sr_blocks=232978207_278190197_0_0_0&highlighted_blocks=232978207_278190197_0_0_0&matching_block_id=232978207_278190197_0_0_0&sr_pri_blocks=232978207_278190197_0_0_0__11700&from=searchresults#hotelTmpl'}\n"
     ]
    },
    {
     "ename": "KeyboardInterrupt",
     "evalue": "",
     "output_type": "error",
     "traceback": [
      "\u001B[0;31m---------------------------------------------------------------------------\u001B[0m",
      "\u001B[0;31mKeyboardInterrupt\u001B[0m                         Traceback (most recent call last)",
      "\u001B[1;32m/Users/erik/Coding/uc3m/Web Analytics/Project/map-data/Scrape_booking.ipynb Cell 5\u001B[0m line \u001B[0;36m5\n\u001B[1;32m      <a href='vscode-notebook-cell:/Users/erik/Coding/uc3m/Web%20Analytics/Project/map-data/Scrape_booking.ipynb#W4sZmlsZQ%3D%3D?line=1'>2</a>\u001B[0m finalData\u001B[39m=\u001B[39m []\n\u001B[1;32m      <a href='vscode-notebook-cell:/Users/erik/Coding/uc3m/Web%20Analytics/Project/map-data/Scrape_booking.ipynb#W4sZmlsZQ%3D%3D?line=3'>4</a>\u001B[0m \u001B[39mwhile\u001B[39;00m checkIn \u001B[39m!=\u001B[39m datetime\u001B[39m.\u001B[39mdatetime(\u001B[39m2024\u001B[39m, \u001B[39m1\u001B[39m, \u001B[39m31\u001B[39m):\n\u001B[0;32m----> <a href='vscode-notebook-cell:/Users/erik/Coding/uc3m/Web%20Analytics/Project/map-data/Scrape_booking.ipynb#W4sZmlsZQ%3D%3D?line=4'>5</a>\u001B[0m   data, checkOut \u001B[39m=\u001B[39m scraper(checkIn)\n\u001B[1;32m      <a href='vscode-notebook-cell:/Users/erik/Coding/uc3m/Web%20Analytics/Project/map-data/Scrape_booking.ipynb#W4sZmlsZQ%3D%3D?line=5'>6</a>\u001B[0m   \u001B[39m#print(checkIn, checkOut)\u001B[39;00m\n\u001B[1;32m      <a href='vscode-notebook-cell:/Users/erik/Coding/uc3m/Web%20Analytics/Project/map-data/Scrape_booking.ipynb#W4sZmlsZQ%3D%3D?line=6'>7</a>\u001B[0m   finalData\u001B[39m.\u001B[39mextend(data)\n",
      "\u001B[1;32m/Users/erik/Coding/uc3m/Web Analytics/Project/map-data/Scrape_booking.ipynb Cell 5\u001B[0m line \u001B[0;36m1\n\u001B[1;32m      <a href='vscode-notebook-cell:/Users/erik/Coding/uc3m/Web%20Analytics/Project/map-data/Scrape_booking.ipynb#W4sZmlsZQ%3D%3D?line=4'>5</a>\u001B[0m url \u001B[39m=\u001B[39m \u001B[39mf\u001B[39m\u001B[39m'\u001B[39m\u001B[39mhttps://www.booking.com/searchresults.html?ss=Madrid%2C+Spain&aid=304142&lang=en-us&sb=1&src_elem=sb&src=index&dest_id=-390625&dest_type=city&checkin=\u001B[39m\u001B[39m{\u001B[39;00mcheckIn\u001B[39m.\u001B[39mstrftime(\u001B[39m\"\u001B[39m\u001B[39m%\u001B[39m\u001B[39mY-\u001B[39m\u001B[39m%\u001B[39m\u001B[39mm-\u001B[39m\u001B[39m%d\u001B[39;00m\u001B[39m\"\u001B[39m)\u001B[39m}\u001B[39;00m\u001B[39m&checkout=\u001B[39m\u001B[39m{\u001B[39;00mcheckOut\u001B[39m.\u001B[39mstrftime(\u001B[39m\"\u001B[39m\u001B[39m%\u001B[39m\u001B[39mY-\u001B[39m\u001B[39m%\u001B[39m\u001B[39mm-\u001B[39m\u001B[39m%d\u001B[39;00m\u001B[39m\"\u001B[39m)\u001B[39m}\u001B[39;00m\u001B[39m&group_adults=1&no_rooms=1&group_children=0&sb_travel_purpose=leisure&selected_currency=EUR\u001B[39m\u001B[39m'\u001B[39m\n\u001B[1;32m      <a href='vscode-notebook-cell:/Users/erik/Coding/uc3m/Web%20Analytics/Project/map-data/Scrape_booking.ipynb#W4sZmlsZQ%3D%3D?line=5'>6</a>\u001B[0m headers \u001B[39m=\u001B[39m {\n\u001B[1;32m      <a href='vscode-notebook-cell:/Users/erik/Coding/uc3m/Web%20Analytics/Project/map-data/Scrape_booking.ipynb#W4sZmlsZQ%3D%3D?line=6'>7</a>\u001B[0m   \u001B[39m'\u001B[39m\u001B[39mUser-Agent\u001B[39m\u001B[39m'\u001B[39m: \u001B[39m'\u001B[39m\u001B[39mMozilla/5.0 (X11; CrOS x86_64 8172.45.0) AppleWebKit/537.36 (KHTML, like Gecko) Chrome/51.0.2704.64 Safari/537.36\u001B[39m\u001B[39m'\u001B[39m,\n\u001B[1;32m      <a href='vscode-notebook-cell:/Users/erik/Coding/uc3m/Web%20Analytics/Project/map-data/Scrape_booking.ipynb#W4sZmlsZQ%3D%3D?line=7'>8</a>\u001B[0m   \u001B[39m'\u001B[39m\u001B[39mAccept-Language\u001B[39m\u001B[39m'\u001B[39m: \u001B[39m'\u001B[39m\u001B[39men-US, en;q=0.5\u001B[39m\u001B[39m'\u001B[39m\n\u001B[1;32m      <a href='vscode-notebook-cell:/Users/erik/Coding/uc3m/Web%20Analytics/Project/map-data/Scrape_booking.ipynb#W4sZmlsZQ%3D%3D?line=8'>9</a>\u001B[0m }\n\u001B[0;32m---> <a href='vscode-notebook-cell:/Users/erik/Coding/uc3m/Web%20Analytics/Project/map-data/Scrape_booking.ipynb#W4sZmlsZQ%3D%3D?line=9'>10</a>\u001B[0m response \u001B[39m=\u001B[39m requests\u001B[39m.\u001B[39;49mget(url, headers\u001B[39m=\u001B[39;49mheaders)\n\u001B[1;32m     <a href='vscode-notebook-cell:/Users/erik/Coding/uc3m/Web%20Analytics/Project/map-data/Scrape_booking.ipynb#W4sZmlsZQ%3D%3D?line=10'>11</a>\u001B[0m soup \u001B[39m=\u001B[39m BeautifulSoup(response\u001B[39m.\u001B[39mtext, \u001B[39m'\u001B[39m\u001B[39mhtml.parser\u001B[39m\u001B[39m'\u001B[39m)\n\u001B[1;32m     <a href='vscode-notebook-cell:/Users/erik/Coding/uc3m/Web%20Analytics/Project/map-data/Scrape_booking.ipynb#W4sZmlsZQ%3D%3D?line=12'>13</a>\u001B[0m \u001B[39m# Number of hotels found - to get the whole data\u001B[39;00m\n\u001B[1;32m     <a href='vscode-notebook-cell:/Users/erik/Coding/uc3m/Web%20Analytics/Project/map-data/Scrape_booking.ipynb#W4sZmlsZQ%3D%3D?line=13'>14</a>\u001B[0m \u001B[39m#pages = soup.find('div', {'data-testid': 'pagination'}).parent.text.split(':')[1].split('properties found')[0].strip()\u001B[39;00m\n",
      "File \u001B[0;32m~/Coding/uc3m/Web Analytics/Project/map-env/lib/python3.11/site-packages/requests/api.py:73\u001B[0m, in \u001B[0;36mget\u001B[0;34m(url, params, **kwargs)\u001B[0m\n\u001B[1;32m     62\u001B[0m \u001B[39mdef\u001B[39;00m \u001B[39mget\u001B[39m(url, params\u001B[39m=\u001B[39m\u001B[39mNone\u001B[39;00m, \u001B[39m*\u001B[39m\u001B[39m*\u001B[39mkwargs):\n\u001B[1;32m     63\u001B[0m \u001B[39m    \u001B[39m\u001B[39mr\u001B[39m\u001B[39m\"\"\"Sends a GET request.\u001B[39;00m\n\u001B[1;32m     64\u001B[0m \n\u001B[1;32m     65\u001B[0m \u001B[39m    :param url: URL for the new :class:`Request` object.\u001B[39;00m\n\u001B[0;32m   (...)\u001B[0m\n\u001B[1;32m     70\u001B[0m \u001B[39m    :rtype: requests.Response\u001B[39;00m\n\u001B[1;32m     71\u001B[0m \u001B[39m    \"\"\"\u001B[39;00m\n\u001B[0;32m---> 73\u001B[0m     \u001B[39mreturn\u001B[39;00m request(\u001B[39m\"\u001B[39;49m\u001B[39mget\u001B[39;49m\u001B[39m\"\u001B[39;49m, url, params\u001B[39m=\u001B[39;49mparams, \u001B[39m*\u001B[39;49m\u001B[39m*\u001B[39;49mkwargs)\n",
      "File \u001B[0;32m~/Coding/uc3m/Web Analytics/Project/map-env/lib/python3.11/site-packages/requests/api.py:59\u001B[0m, in \u001B[0;36mrequest\u001B[0;34m(method, url, **kwargs)\u001B[0m\n\u001B[1;32m     55\u001B[0m \u001B[39m# By using the 'with' statement we are sure the session is closed, thus we\u001B[39;00m\n\u001B[1;32m     56\u001B[0m \u001B[39m# avoid leaving sockets open which can trigger a ResourceWarning in some\u001B[39;00m\n\u001B[1;32m     57\u001B[0m \u001B[39m# cases, and look like a memory leak in others.\u001B[39;00m\n\u001B[1;32m     58\u001B[0m \u001B[39mwith\u001B[39;00m sessions\u001B[39m.\u001B[39mSession() \u001B[39mas\u001B[39;00m session:\n\u001B[0;32m---> 59\u001B[0m     \u001B[39mreturn\u001B[39;00m session\u001B[39m.\u001B[39;49mrequest(method\u001B[39m=\u001B[39;49mmethod, url\u001B[39m=\u001B[39;49murl, \u001B[39m*\u001B[39;49m\u001B[39m*\u001B[39;49mkwargs)\n",
      "File \u001B[0;32m~/Coding/uc3m/Web Analytics/Project/map-env/lib/python3.11/site-packages/requests/sessions.py:589\u001B[0m, in \u001B[0;36mSession.request\u001B[0;34m(self, method, url, params, data, headers, cookies, files, auth, timeout, allow_redirects, proxies, hooks, stream, verify, cert, json)\u001B[0m\n\u001B[1;32m    584\u001B[0m send_kwargs \u001B[39m=\u001B[39m {\n\u001B[1;32m    585\u001B[0m     \u001B[39m\"\u001B[39m\u001B[39mtimeout\u001B[39m\u001B[39m\"\u001B[39m: timeout,\n\u001B[1;32m    586\u001B[0m     \u001B[39m\"\u001B[39m\u001B[39mallow_redirects\u001B[39m\u001B[39m\"\u001B[39m: allow_redirects,\n\u001B[1;32m    587\u001B[0m }\n\u001B[1;32m    588\u001B[0m send_kwargs\u001B[39m.\u001B[39mupdate(settings)\n\u001B[0;32m--> 589\u001B[0m resp \u001B[39m=\u001B[39m \u001B[39mself\u001B[39;49m\u001B[39m.\u001B[39;49msend(prep, \u001B[39m*\u001B[39;49m\u001B[39m*\u001B[39;49msend_kwargs)\n\u001B[1;32m    591\u001B[0m \u001B[39mreturn\u001B[39;00m resp\n",
      "File \u001B[0;32m~/Coding/uc3m/Web Analytics/Project/map-env/lib/python3.11/site-packages/requests/sessions.py:747\u001B[0m, in \u001B[0;36mSession.send\u001B[0;34m(self, request, **kwargs)\u001B[0m\n\u001B[1;32m    744\u001B[0m         \u001B[39mpass\u001B[39;00m\n\u001B[1;32m    746\u001B[0m \u001B[39mif\u001B[39;00m \u001B[39mnot\u001B[39;00m stream:\n\u001B[0;32m--> 747\u001B[0m     r\u001B[39m.\u001B[39;49mcontent\n\u001B[1;32m    749\u001B[0m \u001B[39mreturn\u001B[39;00m r\n",
      "File \u001B[0;32m~/Coding/uc3m/Web Analytics/Project/map-env/lib/python3.11/site-packages/requests/models.py:899\u001B[0m, in \u001B[0;36mResponse.content\u001B[0;34m(self)\u001B[0m\n\u001B[1;32m    897\u001B[0m         \u001B[39mself\u001B[39m\u001B[39m.\u001B[39m_content \u001B[39m=\u001B[39m \u001B[39mNone\u001B[39;00m\n\u001B[1;32m    898\u001B[0m     \u001B[39melse\u001B[39;00m:\n\u001B[0;32m--> 899\u001B[0m         \u001B[39mself\u001B[39m\u001B[39m.\u001B[39m_content \u001B[39m=\u001B[39m \u001B[39mb\u001B[39m\u001B[39m\"\u001B[39m\u001B[39m\"\u001B[39m\u001B[39m.\u001B[39mjoin(\u001B[39mself\u001B[39m\u001B[39m.\u001B[39miter_content(CONTENT_CHUNK_SIZE)) \u001B[39mor\u001B[39;00m \u001B[39mb\u001B[39m\u001B[39m\"\u001B[39m\u001B[39m\"\u001B[39m\n\u001B[1;32m    901\u001B[0m \u001B[39mself\u001B[39m\u001B[39m.\u001B[39m_content_consumed \u001B[39m=\u001B[39m \u001B[39mTrue\u001B[39;00m\n\u001B[1;32m    902\u001B[0m \u001B[39m# don't need to release the connection; that's been handled by urllib3\u001B[39;00m\n\u001B[1;32m    903\u001B[0m \u001B[39m# since we exhausted the data.\u001B[39;00m\n",
      "File \u001B[0;32m~/Coding/uc3m/Web Analytics/Project/map-env/lib/python3.11/site-packages/requests/models.py:816\u001B[0m, in \u001B[0;36mResponse.iter_content.<locals>.generate\u001B[0;34m()\u001B[0m\n\u001B[1;32m    814\u001B[0m \u001B[39mif\u001B[39;00m \u001B[39mhasattr\u001B[39m(\u001B[39mself\u001B[39m\u001B[39m.\u001B[39mraw, \u001B[39m\"\u001B[39m\u001B[39mstream\u001B[39m\u001B[39m\"\u001B[39m):\n\u001B[1;32m    815\u001B[0m     \u001B[39mtry\u001B[39;00m:\n\u001B[0;32m--> 816\u001B[0m         \u001B[39myield from\u001B[39;00m \u001B[39mself\u001B[39m\u001B[39m.\u001B[39mraw\u001B[39m.\u001B[39mstream(chunk_size, decode_content\u001B[39m=\u001B[39m\u001B[39mTrue\u001B[39;00m)\n\u001B[1;32m    817\u001B[0m     \u001B[39mexcept\u001B[39;00m ProtocolError \u001B[39mas\u001B[39;00m e:\n\u001B[1;32m    818\u001B[0m         \u001B[39mraise\u001B[39;00m ChunkedEncodingError(e)\n",
      "File \u001B[0;32m~/Coding/uc3m/Web Analytics/Project/map-env/lib/python3.11/site-packages/urllib3/response.py:933\u001B[0m, in \u001B[0;36mHTTPResponse.stream\u001B[0;34m(self, amt, decode_content)\u001B[0m\n\u001B[1;32m    917\u001B[0m \u001B[39m\u001B[39m\u001B[39m\"\"\"\u001B[39;00m\n\u001B[1;32m    918\u001B[0m \u001B[39mA generator wrapper for the read() method. A call will block until\u001B[39;00m\n\u001B[1;32m    919\u001B[0m \u001B[39m``amt`` bytes have been read from the connection or until the\u001B[39;00m\n\u001B[0;32m   (...)\u001B[0m\n\u001B[1;32m    930\u001B[0m \u001B[39m    'content-encoding' header.\u001B[39;00m\n\u001B[1;32m    931\u001B[0m \u001B[39m\"\"\"\u001B[39;00m\n\u001B[1;32m    932\u001B[0m \u001B[39mif\u001B[39;00m \u001B[39mself\u001B[39m\u001B[39m.\u001B[39mchunked \u001B[39mand\u001B[39;00m \u001B[39mself\u001B[39m\u001B[39m.\u001B[39msupports_chunked_reads():\n\u001B[0;32m--> 933\u001B[0m     \u001B[39myield from\u001B[39;00m \u001B[39mself\u001B[39m\u001B[39m.\u001B[39mread_chunked(amt, decode_content\u001B[39m=\u001B[39mdecode_content)\n\u001B[1;32m    934\u001B[0m \u001B[39melse\u001B[39;00m:\n\u001B[1;32m    935\u001B[0m     \u001B[39mwhile\u001B[39;00m \u001B[39mnot\u001B[39;00m is_fp_closed(\u001B[39mself\u001B[39m\u001B[39m.\u001B[39m_fp) \u001B[39mor\u001B[39;00m \u001B[39mlen\u001B[39m(\u001B[39mself\u001B[39m\u001B[39m.\u001B[39m_decoded_buffer) \u001B[39m>\u001B[39m \u001B[39m0\u001B[39m:\n",
      "File \u001B[0;32m~/Coding/uc3m/Web Analytics/Project/map-env/lib/python3.11/site-packages/urllib3/response.py:1073\u001B[0m, in \u001B[0;36mHTTPResponse.read_chunked\u001B[0;34m(self, amt, decode_content)\u001B[0m\n\u001B[1;32m   1070\u001B[0m     \u001B[39mreturn\u001B[39;00m \u001B[39mNone\u001B[39;00m\n\u001B[1;32m   1072\u001B[0m \u001B[39mwhile\u001B[39;00m \u001B[39mTrue\u001B[39;00m:\n\u001B[0;32m-> 1073\u001B[0m     \u001B[39mself\u001B[39;49m\u001B[39m.\u001B[39;49m_update_chunk_length()\n\u001B[1;32m   1074\u001B[0m     \u001B[39mif\u001B[39;00m \u001B[39mself\u001B[39m\u001B[39m.\u001B[39mchunk_left \u001B[39m==\u001B[39m \u001B[39m0\u001B[39m:\n\u001B[1;32m   1075\u001B[0m         \u001B[39mbreak\u001B[39;00m\n",
      "File \u001B[0;32m~/Coding/uc3m/Web Analytics/Project/map-env/lib/python3.11/site-packages/urllib3/response.py:1001\u001B[0m, in \u001B[0;36mHTTPResponse._update_chunk_length\u001B[0;34m(self)\u001B[0m\n\u001B[1;32m    999\u001B[0m \u001B[39mif\u001B[39;00m \u001B[39mself\u001B[39m\u001B[39m.\u001B[39mchunk_left \u001B[39mis\u001B[39;00m \u001B[39mnot\u001B[39;00m \u001B[39mNone\u001B[39;00m:\n\u001B[1;32m   1000\u001B[0m     \u001B[39mreturn\u001B[39;00m \u001B[39mNone\u001B[39;00m\n\u001B[0;32m-> 1001\u001B[0m line \u001B[39m=\u001B[39m \u001B[39mself\u001B[39m\u001B[39m.\u001B[39m_fp\u001B[39m.\u001B[39mfp\u001B[39m.\u001B[39mreadline()  \u001B[39m# type: ignore[union-attr]\u001B[39;00m\n\u001B[1;32m   1002\u001B[0m line \u001B[39m=\u001B[39m line\u001B[39m.\u001B[39msplit(\u001B[39mb\u001B[39m\u001B[39m\"\u001B[39m\u001B[39m;\u001B[39m\u001B[39m\"\u001B[39m, \u001B[39m1\u001B[39m)[\u001B[39m0\u001B[39m]\n\u001B[1;32m   1003\u001B[0m \u001B[39mtry\u001B[39;00m:\n",
      "File \u001B[0;32m/opt/homebrew/Cellar/python@3.11/3.11.6_1/Frameworks/Python.framework/Versions/3.11/lib/python3.11/socket.py:706\u001B[0m, in \u001B[0;36mSocketIO.readinto\u001B[0;34m(self, b)\u001B[0m\n\u001B[1;32m    704\u001B[0m \u001B[39mwhile\u001B[39;00m \u001B[39mTrue\u001B[39;00m:\n\u001B[1;32m    705\u001B[0m     \u001B[39mtry\u001B[39;00m:\n\u001B[0;32m--> 706\u001B[0m         \u001B[39mreturn\u001B[39;00m \u001B[39mself\u001B[39;49m\u001B[39m.\u001B[39;49m_sock\u001B[39m.\u001B[39;49mrecv_into(b)\n\u001B[1;32m    707\u001B[0m     \u001B[39mexcept\u001B[39;00m timeout:\n\u001B[1;32m    708\u001B[0m         \u001B[39mself\u001B[39m\u001B[39m.\u001B[39m_timeout_occurred \u001B[39m=\u001B[39m \u001B[39mTrue\u001B[39;00m\n",
      "File \u001B[0;32m/opt/homebrew/Cellar/python@3.11/3.11.6_1/Frameworks/Python.framework/Versions/3.11/lib/python3.11/ssl.py:1311\u001B[0m, in \u001B[0;36mSSLSocket.recv_into\u001B[0;34m(self, buffer, nbytes, flags)\u001B[0m\n\u001B[1;32m   1307\u001B[0m     \u001B[39mif\u001B[39;00m flags \u001B[39m!=\u001B[39m \u001B[39m0\u001B[39m:\n\u001B[1;32m   1308\u001B[0m         \u001B[39mraise\u001B[39;00m \u001B[39mValueError\u001B[39;00m(\n\u001B[1;32m   1309\u001B[0m           \u001B[39m\"\u001B[39m\u001B[39mnon-zero flags not allowed in calls to recv_into() on \u001B[39m\u001B[39m%s\u001B[39;00m\u001B[39m\"\u001B[39m \u001B[39m%\u001B[39m\n\u001B[1;32m   1310\u001B[0m           \u001B[39mself\u001B[39m\u001B[39m.\u001B[39m\u001B[39m__class__\u001B[39m)\n\u001B[0;32m-> 1311\u001B[0m     \u001B[39mreturn\u001B[39;00m \u001B[39mself\u001B[39;49m\u001B[39m.\u001B[39;49mread(nbytes, buffer)\n\u001B[1;32m   1312\u001B[0m \u001B[39melse\u001B[39;00m:\n\u001B[1;32m   1313\u001B[0m     \u001B[39mreturn\u001B[39;00m \u001B[39msuper\u001B[39m()\u001B[39m.\u001B[39mrecv_into(buffer, nbytes, flags)\n",
      "File \u001B[0;32m/opt/homebrew/Cellar/python@3.11/3.11.6_1/Frameworks/Python.framework/Versions/3.11/lib/python3.11/ssl.py:1167\u001B[0m, in \u001B[0;36mSSLSocket.read\u001B[0;34m(self, len, buffer)\u001B[0m\n\u001B[1;32m   1165\u001B[0m \u001B[39mtry\u001B[39;00m:\n\u001B[1;32m   1166\u001B[0m     \u001B[39mif\u001B[39;00m buffer \u001B[39mis\u001B[39;00m \u001B[39mnot\u001B[39;00m \u001B[39mNone\u001B[39;00m:\n\u001B[0;32m-> 1167\u001B[0m         \u001B[39mreturn\u001B[39;00m \u001B[39mself\u001B[39;49m\u001B[39m.\u001B[39;49m_sslobj\u001B[39m.\u001B[39;49mread(\u001B[39mlen\u001B[39;49m, buffer)\n\u001B[1;32m   1168\u001B[0m     \u001B[39melse\u001B[39;00m:\n\u001B[1;32m   1169\u001B[0m         \u001B[39mreturn\u001B[39;00m \u001B[39mself\u001B[39m\u001B[39m.\u001B[39m_sslobj\u001B[39m.\u001B[39mread(\u001B[39mlen\u001B[39m)\n",
      "\u001B[0;31mKeyboardInterrupt\u001B[0m: "
     ]
    }
   ],
   "source": [
    "# Set the initial check-in date\n",
    "checkIn = datetime.datetime(2024, 1, 1)\n",
    "\n",
    "# Initialize an empty list to store the final scraped data\n",
    "finalData = []\n",
    "\n",
    "# Loop until the check-in date reaches January 31, 2024\n",
    "while checkIn != datetime.datetime(2024, 1, 31):\n",
    "    # Call the scraper function to get hotel data for the current check-in date\n",
    "    data, checkOut = scraper(checkIn)\n",
    "  \n",
    "    # Extend the finalData list with the data collected for the current date\n",
    "    finalData.extend(data)\n",
    "\n",
    "    # Print the current length of finalData and the last entry in the list\n",
    "    print(len(finalData))\n",
    "    print(finalData[-1])\n",
    "    \n",
    "    # Update checkIn for the next iteration\n",
    "    checkIn = checkOut\n",
    "\n",
    "# Create a DataFrame from the collected data\n",
    "df = pd.DataFrame.from_dict(finalData)"
   ]
  },
  {
   "cell_type": "code",
   "execution_count": 18,
   "metadata": {
    "id": "8x6sL8xSLgbI"
   },
   "outputs": [],
   "source": [
    "bookingData = pd.DataFrame(finalData)\n",
    "bookingData.to_csv('bookingData.csv')"
   ]
  }
 ],
 "metadata": {
  "colab": {
   "provenance": []
  },
  "kernelspec": {
   "display_name": "Python 3",
   "name": "python3"
  },
  "language_info": {
   "codemirror_mode": {
    "name": "ipython",
    "version": 3
   },
   "file_extension": ".py",
   "mimetype": "text/x-python",
   "name": "python",
   "nbconvert_exporter": "python",
   "pygments_lexer": "ipython3",
   "version": "3.11.6"
  }
 },
 "nbformat": 4,
 "nbformat_minor": 0
}
