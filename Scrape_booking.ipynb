{
 "cells": [
  {
   "cell_type": "markdown",
   "metadata": {
    "id": "CNDrGQIoKAmT"
   },
   "source": [
    "# BeautifulSoup"
   ]
  },
  {
   "cell_type": "code",
   "execution_count": 3,
   "metadata": {
    "id": "0h4vFO7f0q8Q"
   },
   "outputs": [
    {
     "name": "stdout",
     "output_type": "stream",
     "text": [
      "Requirement already satisfied: pandas in /Users/erik/Coding/uc3m/Web Analytics/Project/map-env/lib/python3.11/site-packages (2.1.3)\n",
      "Requirement already satisfied: numpy<2,>=1.23.2 in /Users/erik/Coding/uc3m/Web Analytics/Project/map-env/lib/python3.11/site-packages (from pandas) (1.26.1)\n",
      "Requirement already satisfied: python-dateutil>=2.8.2 in /Users/erik/Coding/uc3m/Web Analytics/Project/map-env/lib/python3.11/site-packages (from pandas) (2.8.2)\n",
      "Requirement already satisfied: pytz>=2020.1 in /Users/erik/Coding/uc3m/Web Analytics/Project/map-env/lib/python3.11/site-packages (from pandas) (2023.3.post1)\n",
      "Requirement already satisfied: tzdata>=2022.1 in /Users/erik/Coding/uc3m/Web Analytics/Project/map-env/lib/python3.11/site-packages (from pandas) (2023.3)\n",
      "Requirement already satisfied: six>=1.5 in /Users/erik/Coding/uc3m/Web Analytics/Project/map-env/lib/python3.11/site-packages (from python-dateutil>=2.8.2->pandas) (1.16.0)\n",
      "Note: you may need to restart the kernel to use updated packages.\n"
     ]
    }
   ],
   "source": [
    "%pip install pandas\n",
    "from bs4 import BeautifulSoup\n",
    "import requests\n",
    "import datetime\n",
    "\n",
    "import pandas as pd"
   ]
  },
  {
   "cell_type": "code",
   "execution_count": 4,
   "metadata": {
    "id": "kIJiK-wcY8zC"
   },
   "outputs": [],
   "source": [
    "def outAfterOneDay(checkIn):\n",
    "  months31 = [1, 3, 5, 7, 8, 10]\n",
    "  months30 = [4, 6, 9, 11]\n",
    "  if (checkIn.month in months30 and checkIn.day == 30) or (checkIn.month == 2 and checkIn.day == 28 and checkIn.year == 2025) or (checkIn.month == 2 and checkIn.day == 29 and checkIn.year == 2024) or (checkIn.month in months31 and checkIn.day == 31):\n",
    "      checkOut = datetime.datetime(checkIn.year, checkIn.month + 1, 1)\n",
    "  elif checkIn.month == 12 and checkIn.day == 31:\n",
    "      checkOut = datetime.datetime(checkIn.year + 1, 1, 1)\n",
    "  else:\n",
    "      checkOut = datetime.datetime(checkIn.year, checkIn.month, checkIn.day + 1)\n",
    "  return checkOut"
   ]
  },
  {
   "cell_type": "code",
   "execution_count": 5,
   "metadata": {
    "id": "LFsMDSuKoOJN"
   },
   "outputs": [],
   "source": [
    "def scraper(checkIn):\n",
    "  hotelData = []\n",
    "  checkIn = checkIn\n",
    "  checkOut = outAfterOneDay(checkIn)\n",
    "  url = f'https://www.booking.com/searchresults.html?ss=Madrid%2C+Spain&aid=304142&lang=en-us&sb=1&src_elem=sb&src=index&dest_id=-390625&dest_type=city&checkin={checkIn.strftime(\"%Y-%m-%d\")}&checkout={checkOut.strftime(\"%Y-%m-%d\")}&group_adults=1&no_rooms=1&group_children=0&sb_travel_purpose=leisure&selected_currency=EUR'\n",
    "  headers = {\n",
    "    'User-Agent': 'Mozilla/5.0 (X11; CrOS x86_64 8172.45.0) AppleWebKit/537.36 (KHTML, like Gecko) Chrome/51.0.2704.64 Safari/537.36',\n",
    "    'Accept-Language': 'en-US, en;q=0.5'\n",
    "  }\n",
    "  response = requests.get(url, headers=headers)\n",
    "  soup = BeautifulSoup(response.text, 'html.parser')\n",
    "\n",
    "  # Number of hotels found - to get the whole data\n",
    "  #pages = soup.find('div', {'data-testid': 'pagination'}).parent.text.split(':')[1].split('properties found')[0].strip()\n",
    "\n",
    "  while len(hotelData) < 100:\n",
    "    hotels = soup.find_all('div', {'data-testid':'property-card'}) #property-card, hotelLink\n",
    "    for hotel in hotels:\n",
    "      name = hotel.find('div', {'data-testid': 'title'}).text.strip()\n",
    "      price = hotel.find('span', {'data-testid': 'price-and-discounted-price'}).text.strip()\n",
    "      link = hotel.find('a', {'data-testid': 'title-link'}).attrs['href']\n",
    "      hotel_url = requests.get(link)\n",
    "      hotel_soup = BeautifulSoup(hotel_url.text, 'html.parser')\n",
    "      hotel_address = hotel_soup.find(id=\"hotel_address\")\n",
    "      if hotel_address is not None:\n",
    "        hotel_latlng = hotel_address.attrs['data-atlas-latlng']\n",
    "      hotel_lat, hotel_lng = hotel_latlng.split(',')\n",
    "      room_type = hotel.find('div', {'data-testid': 'recommended-units'}).find('h4').text\n",
    "      hotelData.append({'check-in date': checkIn.strftime(\"%Y-%m-%d\"),'check-out date': checkOut.strftime(\"%Y-%m-%d\"), 'year': checkIn.year, 'month':checkIn.month, 'name':name, 'price':price, 'lat':hotel_lat, 'lng': hotel_lng, 'room type': room_type, 'url': link})\n",
    "\n",
    "    print(checkIn.strftime(\"%Y-%m-%d\"), checkOut.strftime(\"%Y-%m-%d\"))\n",
    "    # Go the the next page\n",
    "    new_url = url + f'&offset={len(hotelData)}'\n",
    "    print(new_url.split('EUR')[1])\n",
    "    response = requests.get(new_url, headers=headers)\n",
    "    soup = BeautifulSoup(response.text, 'html.parser')\n",
    "\n",
    "  return hotelData, checkOut"
   ]
  },
  {
   "cell_type": "code",
   "execution_count": 20,
   "metadata": {
    "colab": {
     "base_uri": "https://localhost:8080/"
    },
    "id": "HASrsrlNpLmi",
    "outputId": "0e1c6b3b-cec1-4915-e4ad-dcbf03601d3c"
   },
   "outputs": [
    {
     "name": "stdout",
     "output_type": "stream",
     "text": [
      "2024-01-01 2024-01-02\n",
      "&offset=26\n",
      "2024-01-01 2024-01-02\n",
      "&offset=51\n",
      "2024-01-01 2024-01-02\n",
      "&offset=76\n",
      "2024-01-01 2024-01-02\n",
      "&offset=101\n",
      "101\n",
      "{'check-in date': '2024-01-01', 'check-out date': '2024-01-02', 'year': 2024, 'month': 1, 'name': 'Hotel Madrid Gran Via 25, Affiliated by Meliá', 'price': '€\\xa0159', 'lat': '40.41985106', 'lng': '-3.70224573', 'room type': 'Single Room', 'url': 'https://www.booking.com/hotel/es/hotel-madrid-gran-via-25.html?aid=304142&label=gen173nr-1FCAQoggI4-gNIMVgEaEaIAQGYATG4ARnIAQzYAQHoAQH4AQaIAgGoAgO4AurNvasGwAIB0gIkZDc3OTI1OTktMjQwMC00NGUyLTg2NjktYWJiZWVjZTNkMDNm2AIF4AIB&ucfs=1&arphpl=1&checkin=2024-01-01&checkout=2024-01-02&dest_id=-390625&dest_type=city&group_adults=1&req_adults=1&no_rooms=1&group_children=0&req_children=0&hpos=25&hapos=100&sr_order=popularity&srpvid=c9c27f756a8e0224&srepoch=1701799660&all_sr_blocks=9161901_91989069_1_1_0&highlighted_blocks=9161901_91989069_1_1_0&matching_block_id=9161901_91989069_1_1_0&sr_pri_blocks=9161901_91989069_1_1_0__15895&from=searchresults#hotelTmpl'}\n",
      "2024-01-02 2024-01-03\n",
      "&offset=26\n",
      "2024-01-02 2024-01-03\n",
      "&offset=51\n",
      "2024-01-02 2024-01-03\n",
      "&offset=76\n",
      "2024-01-02 2024-01-03\n",
      "&offset=101\n",
      "202\n",
      "{'check-in date': '2024-01-02', 'check-out date': '2024-01-03', 'year': 2024, 'month': 1, 'name': 'Hilton Madrid Airport', 'price': '€\\xa0138', 'lat': '40.45253966', 'lng': '-3.58583450', 'room type': 'King Hilton Guestroom', 'url': 'https://www.booking.com/hotel/es/madrid-airport.html?aid=304142&label=gen173nr-1FCAQoggI4-gNIMVgEaEaIAQGYATG4ARnIAQzYAQHoAQH4AQaIAgGoAgO4As7PvasGwAIB0gIkOTg0NzQxZmQtMGM1Yy00NmQ2LWI0NGQtNjY4ZWUyYjNjNmY52AIF4AIB&ucfs=1&arphpl=1&checkin=2024-01-02&checkout=2024-01-03&dest_id=-390625&dest_type=city&group_adults=1&req_adults=1&no_rooms=1&group_children=0&req_children=0&hpos=25&hapos=100&sr_order=popularity&srpvid=d2d37fe7125c004f&srepoch=1701799888&all_sr_blocks=1279306_95136432_2_34_0&highlighted_blocks=1279306_95136432_2_34_0&matching_block_id=1279306_95136432_2_34_0&sr_pri_blocks=1279306_95136432_2_34_0__13770&from_sustainable_property_sr=1&from=searchresults#hotelTmpl'}\n",
      "2024-01-03 2024-01-04\n",
      "&offset=26\n",
      "2024-01-03 2024-01-04\n",
      "&offset=51\n",
      "2024-01-03 2024-01-04\n",
      "&offset=76\n",
      "2024-01-03 2024-01-04\n",
      "&offset=101\n",
      "303\n",
      "{'check-in date': '2024-01-03', 'check-out date': '2024-01-04', 'year': 2024, 'month': 1, 'name': 'Hostal Viky', 'price': '€\\xa064', 'lat': '40.47370262', 'lng': '-3.57568502', 'room type': 'Single Room', 'url': 'https://www.booking.com/hotel/es/hostal-viky.html?aid=304142&label=gen173nr-1FCAQoggI4-gNIMVgEaEaIAQGYATG4ARnIAQzYAQHoAQH4AQaIAgGoAgO4ArTRvasGwAIB0gIkZTU2NzQ3ZDctNjU2OC00MGYwLTgwNTAtYTZjN2ZkOTczNjQz2AIF4AIB&ucfs=1&arphpl=1&checkin=2024-01-03&checkout=2024-01-04&dest_id=-390625&dest_type=city&group_adults=1&req_adults=1&no_rooms=1&group_children=0&req_children=0&hpos=25&hapos=100&sr_order=popularity&srpvid=c6af805a6a9701b4&srepoch=1701800118&all_sr_blocks=4472001_89858196_0_0_0&highlighted_blocks=4472001_89858196_0_0_0&matching_block_id=4472001_89858196_0_0_0&sr_pri_blocks=4472001_89858196_0_0_0__6400&from=searchresults#hotelTmpl'}\n",
      "2024-01-04 2024-01-05\n",
      "&offset=26\n",
      "2024-01-04 2024-01-05\n",
      "&offset=51\n",
      "2024-01-04 2024-01-05\n",
      "&offset=76\n",
      "2024-01-04 2024-01-05\n",
      "&offset=101\n",
      "404\n",
      "{'check-in date': '2024-01-04', 'check-out date': '2024-01-05', 'year': 2024, 'month': 1, 'name': 'Arenal Suites Puerta del Sol', 'price': '€\\xa0374', 'lat': '40.41701546', 'lng': '-3.70549277', 'room type': 'Family Suite', 'url': 'https://www.booking.com/hotel/es/arenalsuites.html?aid=304142&label=gen173nr-1FCAQoggI4-gNIMVgEaEaIAQGYATG4ARnIAQzYAQHoAQH4AQaIAgGoAgO4ApbTvasGwAIB0gIkZGEyZTNhYzctYjk2Ni00MDI0LThhZDYtNjE1YTczMDQxODg22AIF4AIB&ucfs=1&arphpl=1&checkin=2024-01-04&checkout=2024-01-05&dest_id=-390625&dest_type=city&group_adults=1&req_adults=1&no_rooms=1&group_children=0&req_children=0&hpos=25&hapos=100&sr_order=popularity&srpvid=225c80cbccbc0196&srepoch=1701800344&all_sr_blocks=130694912_216771769_4_0_0&highlighted_blocks=130694912_216771769_4_0_0&matching_block_id=130694912_216771769_4_0_0&sr_pri_blocks=130694912_216771769_4_0_0__37400&from=searchresults#hotelTmpl'}\n",
      "2024-01-05 2024-01-06\n",
      "&offset=26\n",
      "2024-01-05 2024-01-06\n",
      "&offset=51\n",
      "2024-01-05 2024-01-06\n",
      "&offset=76\n",
      "2024-01-05 2024-01-06\n",
      "&offset=101\n",
      "505\n",
      "{'check-in date': '2024-01-05', 'check-out date': '2024-01-06', 'year': 2024, 'month': 1, 'name': 'Zenit Abeba', 'price': '€\\xa099', 'lat': '40.43182532', 'lng': '-3.67359504', 'room type': 'Double or Twin Room', 'url': 'https://www.booking.com/hotel/es/abeba.html?aid=304142&label=gen173nr-1FCAQoggI4-gNIMVgEaEaIAQGYATG4ARnIAQzYAQHoAQH4AQaIAgGoAgO4Av7VvasGwAIB0gIkZjBkMjY3MWMtZjYzNy00ZjQ2LWI5ZWEtZGVjZGZjY2JkZTU32AIF4AIB&ucfs=1&arphpl=1&checkin=2024-01-05&checkout=2024-01-06&dest_id=-390625&dest_type=city&group_adults=1&req_adults=1&no_rooms=1&group_children=0&req_children=0&hpos=25&hapos=100&sr_order=popularity&srpvid=d522817f03090048&srepoch=1701800704&all_sr_blocks=9006102_252942415_0_2_0&highlighted_blocks=9006102_252942415_0_2_0&matching_block_id=9006102_252942415_0_2_0&sr_pri_blocks=9006102_252942415_0_2_0__9900&from_sustainable_property_sr=1&from=searchresults#hotelTmpl'}\n",
      "2024-01-06 2024-01-07\n",
      "&offset=26\n",
      "2024-01-06 2024-01-07\n",
      "&offset=51\n",
      "2024-01-06 2024-01-07\n",
      "&offset=76\n",
      "2024-01-06 2024-01-07\n",
      "&offset=101\n",
      "606\n",
      "{'check-in date': '2024-01-06', 'check-out date': '2024-01-07', 'year': 2024, 'month': 1, 'name': 'Golden Alcala', 'price': '€\\xa056', 'lat': '40.43248600', 'lng': '-3.65170200', 'room type': 'Single Room', 'url': 'https://www.booking.com/hotel/es/golden-alcala.html?aid=304142&label=gen173nr-1FCAQoggI4-gNIMVgEaEaIAQGYATG4ARnIAQzYAQHoAQH4AQaIAgGoAgO4AunXvasGwAIB0gIkODY0N2U4YjItZTI4Ni00Y2M0LWI1MDgtMGY3ODlkY2E1ZTZh2AIF4AIB&ucfs=1&arphpl=1&checkin=2024-01-06&checkout=2024-01-07&dest_id=-390625&dest_type=city&group_adults=1&req_adults=1&no_rooms=1&group_children=0&req_children=0&hpos=25&hapos=100&sr_order=popularity&srpvid=506081f4ceaf0244&srepoch=1701800940&all_sr_blocks=363357201_285070316_1_0_0&highlighted_blocks=363357201_285070316_1_0_0&matching_block_id=363357201_285070316_1_0_0&sr_pri_blocks=363357201_285070316_1_0_0__5605&from=searchresults#hotelTmpl'}\n",
      "2024-01-07 2024-01-08\n",
      "&offset=26\n",
      "2024-01-07 2024-01-08\n",
      "&offset=51\n",
      "2024-01-07 2024-01-08\n",
      "&offset=76\n",
      "2024-01-07 2024-01-08\n",
      "&offset=101\n",
      "707\n",
      "{'check-in date': '2024-01-07', 'check-out date': '2024-01-08', 'year': 2024, 'month': 1, 'name': 'Hostal Main Street Madrid', 'price': '€\\xa0104', 'lat': '40.42083530', 'lng': '-3.70659828', 'room type': 'Interior Small Double Room', 'url': 'https://www.booking.com/hotel/es/hostal-main-street-madrid.html?aid=304142&label=gen173nr-1FCAQoggI4-gNIMVgEaEaIAQGYATG4ARnIAQzYAQHoAQH4AQaIAgGoAgO4As7ZvasGwAIB0gIkODQ2NmFmM2EtYzI5OS00ZjU1LWJhZTctZTQ3YjM2NzgwMDAw2AIF4AIB&ucfs=1&arphpl=1&checkin=2024-01-07&checkout=2024-01-08&dest_id=-390625&dest_type=city&group_adults=1&req_adults=1&no_rooms=1&group_children=0&req_children=0&hpos=25&hapos=100&sr_order=popularity&srpvid=551f826755600289&srepoch=1701801169&all_sr_blocks=43074105_88500264_0_0_0&highlighted_blocks=43074105_88500264_0_0_0&matching_block_id=43074105_88500264_0_0_0&sr_pri_blocks=43074105_88500264_0_0_0__10439&from_sustainable_property_sr=1&from=searchresults#hotelTmpl'}\n",
      "2024-01-08 2024-01-09\n",
      "&offset=26\n",
      "2024-01-08 2024-01-09\n",
      "&offset=51\n",
      "2024-01-08 2024-01-09\n",
      "&offset=76\n",
      "2024-01-08 2024-01-09\n",
      "&offset=101\n",
      "808\n",
      "{'check-in date': '2024-01-08', 'check-out date': '2024-01-09', 'year': 2024, 'month': 1, 'name': 'Zenit Conde de Orgaz', 'price': '€\\xa094', 'lat': '40.45701749', 'lng': '-3.64773721', 'room type': 'Twin Room', 'url': 'https://www.booking.com/hotel/es/zenitconde.html?aid=304142&label=gen173nr-1FCAQoggI4-gNIMVgEaEaIAQGYATG4ARnIAQzYAQHoAQH4AQaIAgGoAgO4ArfbvasGwAIB0gIkYzRjZmE1YTktNzFhMS00NzA5LTg3ZTYtZGYzZmJjNjQwMGFi2AIF4AIB&ucfs=1&arphpl=1&checkin=2024-01-08&checkout=2024-01-09&dest_id=-390625&dest_type=city&group_adults=1&req_adults=1&no_rooms=1&group_children=0&req_children=0&hpos=25&hapos=100&sr_order=popularity&srpvid=349282db754c012c&srepoch=1701801401&all_sr_blocks=9013802_343252603_0_2_0&highlighted_blocks=9013802_343252603_0_2_0&matching_block_id=9013802_343252603_0_2_0&sr_pri_blocks=9013802_343252603_0_2_0__9400&from_sustainable_property_sr=1&from=searchresults#hotelTmpl'}\n",
      "2024-01-09 2024-01-10\n",
      "&offset=26\n",
      "2024-01-09 2024-01-10\n",
      "&offset=51\n",
      "2024-01-09 2024-01-10\n",
      "&offset=76\n",
      "2024-01-09 2024-01-10\n",
      "&offset=101\n",
      "909\n",
      "{'check-in date': '2024-01-09', 'check-out date': '2024-01-10', 'year': 2024, 'month': 1, 'name': 'Jardines Boutique', 'price': '€\\xa0117', 'lat': '40.41905270', 'lng': '-3.70093800', 'room type': 'Budget Single Room', 'url': 'https://www.booking.com/hotel/es/jardines-madrid.html?aid=304142&label=gen173nr-1FCAQoggI4-gNIMVgEaEaIAQGYATG4ARnIAQzYAQHoAQH4AQaIAgGoAgO4ApTdvasGwAIB0gIkYTg1MzU4ZGUtNmMzMi00MTE5LThlYjItNmM2YzgyNmVlNGEx2AIF4AIB&ucfs=1&arphpl=1&checkin=2024-01-09&checkout=2024-01-10&dest_id=-390625&dest_type=city&group_adults=1&req_adults=1&no_rooms=1&group_children=0&req_children=0&hpos=25&hapos=100&sr_order=popularity&srpvid=3832834a775c0156&srepoch=1701801623&all_sr_blocks=232978207_278190197_0_0_0&highlighted_blocks=232978207_278190197_0_0_0&matching_block_id=232978207_278190197_0_0_0&sr_pri_blocks=232978207_278190197_0_0_0__11700&from=searchresults#hotelTmpl'}\n"
     ]
    },
    {
     "ename": "KeyboardInterrupt",
     "evalue": "",
     "output_type": "error",
     "traceback": [
      "\u001b[0;31m---------------------------------------------------------------------------\u001b[0m",
      "\u001b[0;31mKeyboardInterrupt\u001b[0m                         Traceback (most recent call last)",
      "\u001b[1;32m/Users/erik/Coding/uc3m/Web Analytics/Project/map-data/Scrape_booking.ipynb Cell 5\u001b[0m line \u001b[0;36m5\n\u001b[1;32m      <a href='vscode-notebook-cell:/Users/erik/Coding/uc3m/Web%20Analytics/Project/map-data/Scrape_booking.ipynb#W4sZmlsZQ%3D%3D?line=1'>2</a>\u001b[0m finalData\u001b[39m=\u001b[39m []\n\u001b[1;32m      <a href='vscode-notebook-cell:/Users/erik/Coding/uc3m/Web%20Analytics/Project/map-data/Scrape_booking.ipynb#W4sZmlsZQ%3D%3D?line=3'>4</a>\u001b[0m \u001b[39mwhile\u001b[39;00m checkIn \u001b[39m!=\u001b[39m datetime\u001b[39m.\u001b[39mdatetime(\u001b[39m2024\u001b[39m, \u001b[39m1\u001b[39m, \u001b[39m31\u001b[39m):\n\u001b[0;32m----> <a href='vscode-notebook-cell:/Users/erik/Coding/uc3m/Web%20Analytics/Project/map-data/Scrape_booking.ipynb#W4sZmlsZQ%3D%3D?line=4'>5</a>\u001b[0m   data, checkOut \u001b[39m=\u001b[39m scraper(checkIn)\n\u001b[1;32m      <a href='vscode-notebook-cell:/Users/erik/Coding/uc3m/Web%20Analytics/Project/map-data/Scrape_booking.ipynb#W4sZmlsZQ%3D%3D?line=5'>6</a>\u001b[0m   \u001b[39m#print(checkIn, checkOut)\u001b[39;00m\n\u001b[1;32m      <a href='vscode-notebook-cell:/Users/erik/Coding/uc3m/Web%20Analytics/Project/map-data/Scrape_booking.ipynb#W4sZmlsZQ%3D%3D?line=6'>7</a>\u001b[0m   finalData\u001b[39m.\u001b[39mextend(data)\n",
      "\u001b[1;32m/Users/erik/Coding/uc3m/Web Analytics/Project/map-data/Scrape_booking.ipynb Cell 5\u001b[0m line \u001b[0;36m1\n\u001b[1;32m      <a href='vscode-notebook-cell:/Users/erik/Coding/uc3m/Web%20Analytics/Project/map-data/Scrape_booking.ipynb#W4sZmlsZQ%3D%3D?line=4'>5</a>\u001b[0m url \u001b[39m=\u001b[39m \u001b[39mf\u001b[39m\u001b[39m'\u001b[39m\u001b[39mhttps://www.booking.com/searchresults.html?ss=Madrid%2C+Spain&aid=304142&lang=en-us&sb=1&src_elem=sb&src=index&dest_id=-390625&dest_type=city&checkin=\u001b[39m\u001b[39m{\u001b[39;00mcheckIn\u001b[39m.\u001b[39mstrftime(\u001b[39m\"\u001b[39m\u001b[39m%\u001b[39m\u001b[39mY-\u001b[39m\u001b[39m%\u001b[39m\u001b[39mm-\u001b[39m\u001b[39m%d\u001b[39;00m\u001b[39m\"\u001b[39m)\u001b[39m}\u001b[39;00m\u001b[39m&checkout=\u001b[39m\u001b[39m{\u001b[39;00mcheckOut\u001b[39m.\u001b[39mstrftime(\u001b[39m\"\u001b[39m\u001b[39m%\u001b[39m\u001b[39mY-\u001b[39m\u001b[39m%\u001b[39m\u001b[39mm-\u001b[39m\u001b[39m%d\u001b[39;00m\u001b[39m\"\u001b[39m)\u001b[39m}\u001b[39;00m\u001b[39m&group_adults=1&no_rooms=1&group_children=0&sb_travel_purpose=leisure&selected_currency=EUR\u001b[39m\u001b[39m'\u001b[39m\n\u001b[1;32m      <a href='vscode-notebook-cell:/Users/erik/Coding/uc3m/Web%20Analytics/Project/map-data/Scrape_booking.ipynb#W4sZmlsZQ%3D%3D?line=5'>6</a>\u001b[0m headers \u001b[39m=\u001b[39m {\n\u001b[1;32m      <a href='vscode-notebook-cell:/Users/erik/Coding/uc3m/Web%20Analytics/Project/map-data/Scrape_booking.ipynb#W4sZmlsZQ%3D%3D?line=6'>7</a>\u001b[0m   \u001b[39m'\u001b[39m\u001b[39mUser-Agent\u001b[39m\u001b[39m'\u001b[39m: \u001b[39m'\u001b[39m\u001b[39mMozilla/5.0 (X11; CrOS x86_64 8172.45.0) AppleWebKit/537.36 (KHTML, like Gecko) Chrome/51.0.2704.64 Safari/537.36\u001b[39m\u001b[39m'\u001b[39m,\n\u001b[1;32m      <a href='vscode-notebook-cell:/Users/erik/Coding/uc3m/Web%20Analytics/Project/map-data/Scrape_booking.ipynb#W4sZmlsZQ%3D%3D?line=7'>8</a>\u001b[0m   \u001b[39m'\u001b[39m\u001b[39mAccept-Language\u001b[39m\u001b[39m'\u001b[39m: \u001b[39m'\u001b[39m\u001b[39men-US, en;q=0.5\u001b[39m\u001b[39m'\u001b[39m\n\u001b[1;32m      <a href='vscode-notebook-cell:/Users/erik/Coding/uc3m/Web%20Analytics/Project/map-data/Scrape_booking.ipynb#W4sZmlsZQ%3D%3D?line=8'>9</a>\u001b[0m }\n\u001b[0;32m---> <a href='vscode-notebook-cell:/Users/erik/Coding/uc3m/Web%20Analytics/Project/map-data/Scrape_booking.ipynb#W4sZmlsZQ%3D%3D?line=9'>10</a>\u001b[0m response \u001b[39m=\u001b[39m requests\u001b[39m.\u001b[39;49mget(url, headers\u001b[39m=\u001b[39;49mheaders)\n\u001b[1;32m     <a href='vscode-notebook-cell:/Users/erik/Coding/uc3m/Web%20Analytics/Project/map-data/Scrape_booking.ipynb#W4sZmlsZQ%3D%3D?line=10'>11</a>\u001b[0m soup \u001b[39m=\u001b[39m BeautifulSoup(response\u001b[39m.\u001b[39mtext, \u001b[39m'\u001b[39m\u001b[39mhtml.parser\u001b[39m\u001b[39m'\u001b[39m)\n\u001b[1;32m     <a href='vscode-notebook-cell:/Users/erik/Coding/uc3m/Web%20Analytics/Project/map-data/Scrape_booking.ipynb#W4sZmlsZQ%3D%3D?line=12'>13</a>\u001b[0m \u001b[39m# Number of hotels found - to get the whole data\u001b[39;00m\n\u001b[1;32m     <a href='vscode-notebook-cell:/Users/erik/Coding/uc3m/Web%20Analytics/Project/map-data/Scrape_booking.ipynb#W4sZmlsZQ%3D%3D?line=13'>14</a>\u001b[0m \u001b[39m#pages = soup.find('div', {'data-testid': 'pagination'}).parent.text.split(':')[1].split('properties found')[0].strip()\u001b[39;00m\n",
      "File \u001b[0;32m~/Coding/uc3m/Web Analytics/Project/map-env/lib/python3.11/site-packages/requests/api.py:73\u001b[0m, in \u001b[0;36mget\u001b[0;34m(url, params, **kwargs)\u001b[0m\n\u001b[1;32m     62\u001b[0m \u001b[39mdef\u001b[39;00m \u001b[39mget\u001b[39m(url, params\u001b[39m=\u001b[39m\u001b[39mNone\u001b[39;00m, \u001b[39m*\u001b[39m\u001b[39m*\u001b[39mkwargs):\n\u001b[1;32m     63\u001b[0m \u001b[39m    \u001b[39m\u001b[39mr\u001b[39m\u001b[39m\"\"\"Sends a GET request.\u001b[39;00m\n\u001b[1;32m     64\u001b[0m \n\u001b[1;32m     65\u001b[0m \u001b[39m    :param url: URL for the new :class:`Request` object.\u001b[39;00m\n\u001b[0;32m   (...)\u001b[0m\n\u001b[1;32m     70\u001b[0m \u001b[39m    :rtype: requests.Response\u001b[39;00m\n\u001b[1;32m     71\u001b[0m \u001b[39m    \"\"\"\u001b[39;00m\n\u001b[0;32m---> 73\u001b[0m     \u001b[39mreturn\u001b[39;00m request(\u001b[39m\"\u001b[39;49m\u001b[39mget\u001b[39;49m\u001b[39m\"\u001b[39;49m, url, params\u001b[39m=\u001b[39;49mparams, \u001b[39m*\u001b[39;49m\u001b[39m*\u001b[39;49mkwargs)\n",
      "File \u001b[0;32m~/Coding/uc3m/Web Analytics/Project/map-env/lib/python3.11/site-packages/requests/api.py:59\u001b[0m, in \u001b[0;36mrequest\u001b[0;34m(method, url, **kwargs)\u001b[0m\n\u001b[1;32m     55\u001b[0m \u001b[39m# By using the 'with' statement we are sure the session is closed, thus we\u001b[39;00m\n\u001b[1;32m     56\u001b[0m \u001b[39m# avoid leaving sockets open which can trigger a ResourceWarning in some\u001b[39;00m\n\u001b[1;32m     57\u001b[0m \u001b[39m# cases, and look like a memory leak in others.\u001b[39;00m\n\u001b[1;32m     58\u001b[0m \u001b[39mwith\u001b[39;00m sessions\u001b[39m.\u001b[39mSession() \u001b[39mas\u001b[39;00m session:\n\u001b[0;32m---> 59\u001b[0m     \u001b[39mreturn\u001b[39;00m session\u001b[39m.\u001b[39;49mrequest(method\u001b[39m=\u001b[39;49mmethod, url\u001b[39m=\u001b[39;49murl, \u001b[39m*\u001b[39;49m\u001b[39m*\u001b[39;49mkwargs)\n",
      "File \u001b[0;32m~/Coding/uc3m/Web Analytics/Project/map-env/lib/python3.11/site-packages/requests/sessions.py:589\u001b[0m, in \u001b[0;36mSession.request\u001b[0;34m(self, method, url, params, data, headers, cookies, files, auth, timeout, allow_redirects, proxies, hooks, stream, verify, cert, json)\u001b[0m\n\u001b[1;32m    584\u001b[0m send_kwargs \u001b[39m=\u001b[39m {\n\u001b[1;32m    585\u001b[0m     \u001b[39m\"\u001b[39m\u001b[39mtimeout\u001b[39m\u001b[39m\"\u001b[39m: timeout,\n\u001b[1;32m    586\u001b[0m     \u001b[39m\"\u001b[39m\u001b[39mallow_redirects\u001b[39m\u001b[39m\"\u001b[39m: allow_redirects,\n\u001b[1;32m    587\u001b[0m }\n\u001b[1;32m    588\u001b[0m send_kwargs\u001b[39m.\u001b[39mupdate(settings)\n\u001b[0;32m--> 589\u001b[0m resp \u001b[39m=\u001b[39m \u001b[39mself\u001b[39;49m\u001b[39m.\u001b[39;49msend(prep, \u001b[39m*\u001b[39;49m\u001b[39m*\u001b[39;49msend_kwargs)\n\u001b[1;32m    591\u001b[0m \u001b[39mreturn\u001b[39;00m resp\n",
      "File \u001b[0;32m~/Coding/uc3m/Web Analytics/Project/map-env/lib/python3.11/site-packages/requests/sessions.py:747\u001b[0m, in \u001b[0;36mSession.send\u001b[0;34m(self, request, **kwargs)\u001b[0m\n\u001b[1;32m    744\u001b[0m         \u001b[39mpass\u001b[39;00m\n\u001b[1;32m    746\u001b[0m \u001b[39mif\u001b[39;00m \u001b[39mnot\u001b[39;00m stream:\n\u001b[0;32m--> 747\u001b[0m     r\u001b[39m.\u001b[39;49mcontent\n\u001b[1;32m    749\u001b[0m \u001b[39mreturn\u001b[39;00m r\n",
      "File \u001b[0;32m~/Coding/uc3m/Web Analytics/Project/map-env/lib/python3.11/site-packages/requests/models.py:899\u001b[0m, in \u001b[0;36mResponse.content\u001b[0;34m(self)\u001b[0m\n\u001b[1;32m    897\u001b[0m         \u001b[39mself\u001b[39m\u001b[39m.\u001b[39m_content \u001b[39m=\u001b[39m \u001b[39mNone\u001b[39;00m\n\u001b[1;32m    898\u001b[0m     \u001b[39melse\u001b[39;00m:\n\u001b[0;32m--> 899\u001b[0m         \u001b[39mself\u001b[39m\u001b[39m.\u001b[39m_content \u001b[39m=\u001b[39m \u001b[39mb\u001b[39m\u001b[39m\"\u001b[39m\u001b[39m\"\u001b[39m\u001b[39m.\u001b[39mjoin(\u001b[39mself\u001b[39m\u001b[39m.\u001b[39miter_content(CONTENT_CHUNK_SIZE)) \u001b[39mor\u001b[39;00m \u001b[39mb\u001b[39m\u001b[39m\"\u001b[39m\u001b[39m\"\u001b[39m\n\u001b[1;32m    901\u001b[0m \u001b[39mself\u001b[39m\u001b[39m.\u001b[39m_content_consumed \u001b[39m=\u001b[39m \u001b[39mTrue\u001b[39;00m\n\u001b[1;32m    902\u001b[0m \u001b[39m# don't need to release the connection; that's been handled by urllib3\u001b[39;00m\n\u001b[1;32m    903\u001b[0m \u001b[39m# since we exhausted the data.\u001b[39;00m\n",
      "File \u001b[0;32m~/Coding/uc3m/Web Analytics/Project/map-env/lib/python3.11/site-packages/requests/models.py:816\u001b[0m, in \u001b[0;36mResponse.iter_content.<locals>.generate\u001b[0;34m()\u001b[0m\n\u001b[1;32m    814\u001b[0m \u001b[39mif\u001b[39;00m \u001b[39mhasattr\u001b[39m(\u001b[39mself\u001b[39m\u001b[39m.\u001b[39mraw, \u001b[39m\"\u001b[39m\u001b[39mstream\u001b[39m\u001b[39m\"\u001b[39m):\n\u001b[1;32m    815\u001b[0m     \u001b[39mtry\u001b[39;00m:\n\u001b[0;32m--> 816\u001b[0m         \u001b[39myield from\u001b[39;00m \u001b[39mself\u001b[39m\u001b[39m.\u001b[39mraw\u001b[39m.\u001b[39mstream(chunk_size, decode_content\u001b[39m=\u001b[39m\u001b[39mTrue\u001b[39;00m)\n\u001b[1;32m    817\u001b[0m     \u001b[39mexcept\u001b[39;00m ProtocolError \u001b[39mas\u001b[39;00m e:\n\u001b[1;32m    818\u001b[0m         \u001b[39mraise\u001b[39;00m ChunkedEncodingError(e)\n",
      "File \u001b[0;32m~/Coding/uc3m/Web Analytics/Project/map-env/lib/python3.11/site-packages/urllib3/response.py:933\u001b[0m, in \u001b[0;36mHTTPResponse.stream\u001b[0;34m(self, amt, decode_content)\u001b[0m\n\u001b[1;32m    917\u001b[0m \u001b[39m\u001b[39m\u001b[39m\"\"\"\u001b[39;00m\n\u001b[1;32m    918\u001b[0m \u001b[39mA generator wrapper for the read() method. A call will block until\u001b[39;00m\n\u001b[1;32m    919\u001b[0m \u001b[39m``amt`` bytes have been read from the connection or until the\u001b[39;00m\n\u001b[0;32m   (...)\u001b[0m\n\u001b[1;32m    930\u001b[0m \u001b[39m    'content-encoding' header.\u001b[39;00m\n\u001b[1;32m    931\u001b[0m \u001b[39m\"\"\"\u001b[39;00m\n\u001b[1;32m    932\u001b[0m \u001b[39mif\u001b[39;00m \u001b[39mself\u001b[39m\u001b[39m.\u001b[39mchunked \u001b[39mand\u001b[39;00m \u001b[39mself\u001b[39m\u001b[39m.\u001b[39msupports_chunked_reads():\n\u001b[0;32m--> 933\u001b[0m     \u001b[39myield from\u001b[39;00m \u001b[39mself\u001b[39m\u001b[39m.\u001b[39mread_chunked(amt, decode_content\u001b[39m=\u001b[39mdecode_content)\n\u001b[1;32m    934\u001b[0m \u001b[39melse\u001b[39;00m:\n\u001b[1;32m    935\u001b[0m     \u001b[39mwhile\u001b[39;00m \u001b[39mnot\u001b[39;00m is_fp_closed(\u001b[39mself\u001b[39m\u001b[39m.\u001b[39m_fp) \u001b[39mor\u001b[39;00m \u001b[39mlen\u001b[39m(\u001b[39mself\u001b[39m\u001b[39m.\u001b[39m_decoded_buffer) \u001b[39m>\u001b[39m \u001b[39m0\u001b[39m:\n",
      "File \u001b[0;32m~/Coding/uc3m/Web Analytics/Project/map-env/lib/python3.11/site-packages/urllib3/response.py:1073\u001b[0m, in \u001b[0;36mHTTPResponse.read_chunked\u001b[0;34m(self, amt, decode_content)\u001b[0m\n\u001b[1;32m   1070\u001b[0m     \u001b[39mreturn\u001b[39;00m \u001b[39mNone\u001b[39;00m\n\u001b[1;32m   1072\u001b[0m \u001b[39mwhile\u001b[39;00m \u001b[39mTrue\u001b[39;00m:\n\u001b[0;32m-> 1073\u001b[0m     \u001b[39mself\u001b[39;49m\u001b[39m.\u001b[39;49m_update_chunk_length()\n\u001b[1;32m   1074\u001b[0m     \u001b[39mif\u001b[39;00m \u001b[39mself\u001b[39m\u001b[39m.\u001b[39mchunk_left \u001b[39m==\u001b[39m \u001b[39m0\u001b[39m:\n\u001b[1;32m   1075\u001b[0m         \u001b[39mbreak\u001b[39;00m\n",
      "File \u001b[0;32m~/Coding/uc3m/Web Analytics/Project/map-env/lib/python3.11/site-packages/urllib3/response.py:1001\u001b[0m, in \u001b[0;36mHTTPResponse._update_chunk_length\u001b[0;34m(self)\u001b[0m\n\u001b[1;32m    999\u001b[0m \u001b[39mif\u001b[39;00m \u001b[39mself\u001b[39m\u001b[39m.\u001b[39mchunk_left \u001b[39mis\u001b[39;00m \u001b[39mnot\u001b[39;00m \u001b[39mNone\u001b[39;00m:\n\u001b[1;32m   1000\u001b[0m     \u001b[39mreturn\u001b[39;00m \u001b[39mNone\u001b[39;00m\n\u001b[0;32m-> 1001\u001b[0m line \u001b[39m=\u001b[39m \u001b[39mself\u001b[39m\u001b[39m.\u001b[39m_fp\u001b[39m.\u001b[39mfp\u001b[39m.\u001b[39mreadline()  \u001b[39m# type: ignore[union-attr]\u001b[39;00m\n\u001b[1;32m   1002\u001b[0m line \u001b[39m=\u001b[39m line\u001b[39m.\u001b[39msplit(\u001b[39mb\u001b[39m\u001b[39m\"\u001b[39m\u001b[39m;\u001b[39m\u001b[39m\"\u001b[39m, \u001b[39m1\u001b[39m)[\u001b[39m0\u001b[39m]\n\u001b[1;32m   1003\u001b[0m \u001b[39mtry\u001b[39;00m:\n",
      "File \u001b[0;32m/opt/homebrew/Cellar/python@3.11/3.11.6_1/Frameworks/Python.framework/Versions/3.11/lib/python3.11/socket.py:706\u001b[0m, in \u001b[0;36mSocketIO.readinto\u001b[0;34m(self, b)\u001b[0m\n\u001b[1;32m    704\u001b[0m \u001b[39mwhile\u001b[39;00m \u001b[39mTrue\u001b[39;00m:\n\u001b[1;32m    705\u001b[0m     \u001b[39mtry\u001b[39;00m:\n\u001b[0;32m--> 706\u001b[0m         \u001b[39mreturn\u001b[39;00m \u001b[39mself\u001b[39;49m\u001b[39m.\u001b[39;49m_sock\u001b[39m.\u001b[39;49mrecv_into(b)\n\u001b[1;32m    707\u001b[0m     \u001b[39mexcept\u001b[39;00m timeout:\n\u001b[1;32m    708\u001b[0m         \u001b[39mself\u001b[39m\u001b[39m.\u001b[39m_timeout_occurred \u001b[39m=\u001b[39m \u001b[39mTrue\u001b[39;00m\n",
      "File \u001b[0;32m/opt/homebrew/Cellar/python@3.11/3.11.6_1/Frameworks/Python.framework/Versions/3.11/lib/python3.11/ssl.py:1311\u001b[0m, in \u001b[0;36mSSLSocket.recv_into\u001b[0;34m(self, buffer, nbytes, flags)\u001b[0m\n\u001b[1;32m   1307\u001b[0m     \u001b[39mif\u001b[39;00m flags \u001b[39m!=\u001b[39m \u001b[39m0\u001b[39m:\n\u001b[1;32m   1308\u001b[0m         \u001b[39mraise\u001b[39;00m \u001b[39mValueError\u001b[39;00m(\n\u001b[1;32m   1309\u001b[0m           \u001b[39m\"\u001b[39m\u001b[39mnon-zero flags not allowed in calls to recv_into() on \u001b[39m\u001b[39m%s\u001b[39;00m\u001b[39m\"\u001b[39m \u001b[39m%\u001b[39m\n\u001b[1;32m   1310\u001b[0m           \u001b[39mself\u001b[39m\u001b[39m.\u001b[39m\u001b[39m__class__\u001b[39m)\n\u001b[0;32m-> 1311\u001b[0m     \u001b[39mreturn\u001b[39;00m \u001b[39mself\u001b[39;49m\u001b[39m.\u001b[39;49mread(nbytes, buffer)\n\u001b[1;32m   1312\u001b[0m \u001b[39melse\u001b[39;00m:\n\u001b[1;32m   1313\u001b[0m     \u001b[39mreturn\u001b[39;00m \u001b[39msuper\u001b[39m()\u001b[39m.\u001b[39mrecv_into(buffer, nbytes, flags)\n",
      "File \u001b[0;32m/opt/homebrew/Cellar/python@3.11/3.11.6_1/Frameworks/Python.framework/Versions/3.11/lib/python3.11/ssl.py:1167\u001b[0m, in \u001b[0;36mSSLSocket.read\u001b[0;34m(self, len, buffer)\u001b[0m\n\u001b[1;32m   1165\u001b[0m \u001b[39mtry\u001b[39;00m:\n\u001b[1;32m   1166\u001b[0m     \u001b[39mif\u001b[39;00m buffer \u001b[39mis\u001b[39;00m \u001b[39mnot\u001b[39;00m \u001b[39mNone\u001b[39;00m:\n\u001b[0;32m-> 1167\u001b[0m         \u001b[39mreturn\u001b[39;00m \u001b[39mself\u001b[39;49m\u001b[39m.\u001b[39;49m_sslobj\u001b[39m.\u001b[39;49mread(\u001b[39mlen\u001b[39;49m, buffer)\n\u001b[1;32m   1168\u001b[0m     \u001b[39melse\u001b[39;00m:\n\u001b[1;32m   1169\u001b[0m         \u001b[39mreturn\u001b[39;00m \u001b[39mself\u001b[39m\u001b[39m.\u001b[39m_sslobj\u001b[39m.\u001b[39mread(\u001b[39mlen\u001b[39m)\n",
      "\u001b[0;31mKeyboardInterrupt\u001b[0m: "
     ]
    }
   ],
   "source": [
    "checkIn = datetime.datetime(2024, 1, 1)\n",
    "finalData= []\n",
    "\n",
    "while checkIn != datetime.datetime(2024, 1, 31):\n",
    "  data, checkOut = scraper(checkIn)\n",
    "  #print(checkIn, checkOut)\n",
    "  finalData.extend(data)\n",
    "  print(len(finalData))\n",
    "  print(finalData[-1])\n",
    "  checkIn = checkOut\n",
    "\n",
    "df = pd.DataFrame.from_dict(finalData)"
   ]
  },
  {
   "cell_type": "code",
   "execution_count": 18,
   "metadata": {
    "id": "8x6sL8xSLgbI"
   },
   "outputs": [],
   "source": [
    "bookingData = pd.DataFrame(finalData)\n",
    "bookingData.to_csv('bookingData.csv')"
   ]
  }
 ],
 "metadata": {
  "colab": {
   "provenance": []
  },
  "kernelspec": {
   "display_name": "Python 3",
   "name": "python3"
  },
  "language_info": {
   "codemirror_mode": {
    "name": "ipython",
    "version": 3
   },
   "file_extension": ".py",
   "mimetype": "text/x-python",
   "name": "python",
   "nbconvert_exporter": "python",
   "pygments_lexer": "ipython3",
   "version": "3.11.6"
  }
 },
 "nbformat": 4,
 "nbformat_minor": 0
}
