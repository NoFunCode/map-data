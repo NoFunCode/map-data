{
 "cells": [
  {
   "cell_type": "code",
   "execution_count": null,
   "id": "initial_id",
   "metadata": {
    "collapsed": true
   },
   "outputs": [],
   "source": [
    "#Calculate the average prices each month for each zone based on the data_map.csv file"
   ]
  },
  {
   "cell_type": "code",
   "execution_count": 1,
   "id": "dcb9e4d52263615",
   "metadata": {
    "collapsed": false
   },
   "outputs": [
    {
     "name": "stdout",
     "output_type": "stream",
     "text": [
      "Average prices for each zone and month have been calculated (rounded to two decimal places) and saved to average_prices.csv.\n"
     ]
    }
   ],
   "source": [
    "import pandas as pd\n",
    "\n",
    "# Input and output file paths\n",
    "input_file_path = \"data_map.csv\"\n",
    "output_file_path = \"average_prices.csv\"\n",
    "\n",
    "# Read the input CSV file using pandas\n",
    "df = pd.read_csv(input_file_path, sep=\",\")\n",
    "\n",
    "# Group by 'region' and 'month' and calculate the mean of 'price' for each group\n",
    "average_prices = df.groupby([\"region\", \"month\"], as_index=False)[\"price\"].mean()\n",
    "\n",
    "# Round the 'price' column to two decimal places\n",
    "average_prices[\"price\"] = average_prices[\"price\"].round(2)\n",
    "\n",
    "# Write the results to a new CSV file\n",
    "average_prices.to_csv(output_file_path, index=False)\n",
    "\n",
    "print(\n",
    "    f\"Average prices for each zone and month have been calculated (rounded to two decimal places) and saved to {output_file_path}.\"\n",
    ")"
   ]
  }
 ],
 "metadata": {
  "kernelspec": {
   "display_name": "Python 3",
   "language": "python",
   "name": "python3"
  },
  "language_info": {
   "codemirror_mode": {
    "name": "ipython",
    "version": 3
   },
   "file_extension": ".py",
   "mimetype": "text/x-python",
   "name": "python",
   "nbconvert_exporter": "python",
   "pygments_lexer": "ipython3",
   "version": "3.11.6"
  }
 },
 "nbformat": 4,
 "nbformat_minor": 5
}
