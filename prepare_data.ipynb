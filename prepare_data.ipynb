{
 "cells": [
  {
   "cell_type": "code",
   "execution_count": 7,
   "metadata": {},
   "outputs": [
    {
     "name": "stdout",
     "output_type": "stream",
     "text": [
      "Requirement already satisfied: pandas in /Users/erik/Coding/uc3m/Web Analytics/Project/map-env/lib/python3.11/site-packages (2.1.3)\n",
      "Requirement already satisfied: numpy<2,>=1.23.2 in /Users/erik/Coding/uc3m/Web Analytics/Project/map-env/lib/python3.11/site-packages (from pandas) (1.26.1)\n",
      "Requirement already satisfied: python-dateutil>=2.8.2 in /Users/erik/Coding/uc3m/Web Analytics/Project/map-env/lib/python3.11/site-packages (from pandas) (2.8.2)\n",
      "Requirement already satisfied: pytz>=2020.1 in /Users/erik/Coding/uc3m/Web Analytics/Project/map-env/lib/python3.11/site-packages (from pandas) (2023.3.post1)\n",
      "Requirement already satisfied: tzdata>=2022.1 in /Users/erik/Coding/uc3m/Web Analytics/Project/map-env/lib/python3.11/site-packages (from pandas) (2023.3)\n",
      "Requirement already satisfied: six>=1.5 in /Users/erik/Coding/uc3m/Web Analytics/Project/map-env/lib/python3.11/site-packages (from python-dateutil>=2.8.2->pandas) (1.16.0)\n",
      "Note: you may need to restart the kernel to use updated packages.\n"
     ]
    }
   ],
   "source": [
    "#purpose of file ....\n",
    "# Install the pandas library using the pip command\n",
    "%pip install pandas\n",
    "\n",
    "# Import the pandas library with the alias 'pd'\n",
    "import pandas as pd\n",
    "\n",
    "# Read data from CSV files into separate DataFrames\n",
    "booking_part_1 = pd.read_csv('data/booking/bookingData-2024-06.csv')\n",
    "booking_part_2 = pd.read_csv('data/booking/bookingData-2024-09.csv')\n",
    "booking_part_3 = pd.read_csv('data/booking/bookingData-2024-12.csv')\n",
    "booking_part_4 = pd.read_csv('data/booking/bookingData-2024-12-2.csv')\n",
    "booking_part_5 = pd.read_csv('data/booking/bookingData-2024-1.csv')\n",
    "booking_part_6 = pd.read_csv('data/booking/bookingDataServer.csv')\n",
    "\n",
    "# Concatenate the individual DataFrames into a single DataFrame\n",
    "booking = pd.concat([booking_part_1, booking_part_2, booking_part_3, booking_part_4, booking_part_5, booking_part_6])\n",
    "\n",
    "# Clean up the 'price' column by removing special characters and converting it to a float\n",
    "booking['price'] = booking['price'].str.replace('€', '').str.replace(' ', '').str.replace(',','.').astype(float)\n",
    "\n",
    "# Select specific columns from the DataFrame and rename them\n",
    "booking_data = booking[['month', 'year', 'lat', 'lng', 'price', 'room type']].rename(columns={'lat': 'latitude','lng': 'longitude', 'room type': 'room_type'})\n",
    "\n",
    "# Remove duplicate rows from the 'booking' DataFrame\n",
    "booking = booking.drop_duplicates()\n",
    "\n",
    "# Save the cleaned and processed data to a new CSV file\n",
    "booking_data.to_csv('data/booking/bookingData.csv', index=False)"
   ]
  },
  {
   "cell_type": "code",
   "execution_count": 8,
   "metadata": {},
   "outputs": [],
   "source": [
    "# Read Airbnb data from a CSV file into a DataFrame\n",
    "airbnb = pd.read_csv('airbnb_data.csv')\n",
    "\n",
    "# Convert 'check_in' and 'check_out' columns to datetime objects\n",
    "airbnb[\"check_in\"] = pd.to_datetime(airbnb[\"check_in\"])\n",
    "airbnb[\"check_out\"] = pd.to_datetime(airbnb[\"check_out\"])\n",
    "\n",
    "# Extract month and year information from the 'check_in' column\n",
    "airbnb['month'] = airbnb['check_in'].dt.month\n",
    "airbnb['year'] = airbnb['check_in'].dt.year\n",
    "\n",
    "# Select specific columns from the DataFrame for analysis\n",
    "airbnb_data = airbnb[['month', 'year', 'latitude', 'longitude', 'price', 'room_type']]\n"
   ]
  },
  {
   "cell_type": "code",
   "execution_count": 9,
   "metadata": {},
   "outputs": [],
   "source": [
    "# Concatenate the data from both 'booking_data' and 'airbnb_data' DataFrames\n",
    "data = pd.concat([booking_data, airbnb_data])\n",
    "\n",
    "# Save the combined data to a new CSV file named 'data.csv', without including the index\n",
    "data.to_csv('data.csv', index=False)\n"
   ]
  },
  {
   "cell_type": "code",
   "execution_count": 10,
   "metadata": {},
   "outputs": [],
   "source": [
    "# Read the combined data from the CSV file into a DataFrame\n",
    "data = pd.read_csv('data.csv')\n",
    "\n",
    "# Group the data by 'month' and calculate the mean of the 'price' column for each month\n",
    "data_graph = data.groupby('month')['price'].mean().reset_index()\n",
    "\n",
    "# Round the 'price' values to two decimal places for clarity\n",
    "data_graph['price'] = data_graph['price'].round(2)\n",
    "\n",
    "# Save the aggregated and rounded data to a new CSV file named 'data_graph.csv', without including the index\n",
    "data_graph.to_csv('data_graph.csv', index=False)\n"
   ]
  },
  {
   "cell_type": "code",
   "execution_count": 11,
   "metadata": {},
   "outputs": [
    {
     "name": "stdout",
     "output_type": "stream",
     "text": [
      "Requirement already satisfied: geopy in /Users/erik/Coding/uc3m/Web Analytics/Project/map-env/lib/python3.11/site-packages (2.4.1)\n",
      "Requirement already satisfied: geographiclib<3,>=1.52 in /Users/erik/Coding/uc3m/Web Analytics/Project/map-env/lib/python3.11/site-packages (from geopy) (2.0)\n",
      "Note: you may need to restart the kernel to use updated packages.\n",
      "Puente de Vallecas\n"
     ]
    }
   ],
   "source": [
    "# Install the geopy library using the pip command\n",
    "%pip install geopy\n",
    "\n",
    "# Import the Nominatim class from the geopy.geocoders module\n",
    "from geopy.geocoders import Nominatim\n",
    "\n",
    "# Function to get the district information based on latitude and longitude\n",
    "def get_district(latitude, longitude):\n",
    "    # Initialize Nominatim API with a custom user agent and a longer timeout\n",
    "    geolocator = Nominatim(user_agent=\"map_app_airbnb\", timeout=720000)\n",
    "\n",
    "    # Get location information using reverse geocoding\n",
    "    location = geolocator.reverse((latitude, longitude), exactly_one=True)\n",
    "\n",
    "    # Check if location information is available\n",
    "    if location:\n",
    "        # Extract address information from the raw location data\n",
    "        address = location.raw['address']\n",
    "\n",
    "        # Try to get the city district; if not available, get the suburb\n",
    "        district = address.get('city_district')\n",
    "        if district == None:\n",
    "            district = address.get('suburb')         \n",
    "\n",
    "        # Return the district information\n",
    "        return district\n",
    "    else:\n",
    "        # Return a message indicating that the district was not found\n",
    "        return \"District not found\"\n",
    "\n",
    "# Example usage\n",
    "# Specify latitude and longitude values for testing\n",
    "latitude = 40.748817\n",
    "longitude = -73.985428\n",
    "\n",
    "# Call the function with the example coordinates and print the result\n",
    "print(get_district(40.3789571457818, -3.6703623401582193))"
   ]
  },
  {
   "cell_type": "code",
   "execution_count": 12,
   "metadata": {},
   "outputs": [],
   "source": [
    "# Group the data by 'latitude', 'longitude', and 'month', and calculate the mean of the 'price' column for each group\n",
    "data_map = data.groupby(['latitude', 'longitude', 'month'])['price'].mean().reset_index()\n",
    "\n",
    "# Add a new column 'region' to the DataFrame by applying the get_district function to each row\n",
    "data_map['region'] = data_map.apply(lambda x: get_district(x['latitude'], x['longitude']), axis=1)\n",
    "\n",
    "# Save the aggregated and region-mapped data to a new CSV file named 'data_map.csv', without including the index\n",
    "data_map.to_csv('data_map.csv', index=False)\n"
   ]
  },
  {
   "cell_type": "code",
   "execution_count": 13,
   "metadata": {},
   "outputs": [],
   "source": [
    "data_map.groupby(['region', 'month'])['price'].mean().reset_index().to_csv('data_map_agg.csv', index=False)"
   ]
  }
 ],
 "metadata": {
  "kernelspec": {
   "display_name": "map-env",
   "language": "python",
   "name": "python3"
  },
  "language_info": {
   "codemirror_mode": {
    "name": "ipython",
    "version": 3
   },
   "file_extension": ".py",
   "mimetype": "text/x-python",
   "name": "python",
   "nbconvert_exporter": "python",
   "pygments_lexer": "ipython3",
   "version": "3.11.6"
  }
 },
 "nbformat": 4,
 "nbformat_minor": 2
}
